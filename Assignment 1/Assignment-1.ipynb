{
  "nbformat": 4,
  "nbformat_minor": 0,
  "metadata": {
    "colab": {
      "provenance": []
    },
    "kernelspec": {
      "name": "python3",
      "display_name": "Python 3"
    },
    "language_info": {
      "name": "python"
    }
  },
  "cells": [
    {
      "cell_type": "code",
      "execution_count": 45,
      "metadata": {
        "colab": {
          "base_uri": "https://localhost:8080/"
        },
        "id": "XnOIQaoippdZ",
        "outputId": "f423dcae-d5f5-4b23-b1c4-35737546cad2"
      },
      "outputs": [
        {
          "output_type": "stream",
          "name": "stdout",
          "text": [
            "Cloning into 'CatVTON'...\n",
            "remote: Enumerating objects: 1315, done.\u001b[K\n",
            "remote: Counting objects: 100% (65/65), done.\u001b[K\n",
            "remote: Compressing objects: 100% (34/34), done.\u001b[K\n",
            "remote: Total 1315 (delta 36), reused 52 (delta 29), pack-reused 1250 (from 1)\u001b[K\n",
            "Receiving objects: 100% (1315/1315), 16.72 MiB | 27.57 MiB/s, done.\n",
            "Resolving deltas: 100% (430/430), done.\n"
          ]
        }
      ],
      "source": [
        "!git clone https://github.com/Zheng-Chong/CatVTON.git\n"
      ]
    },
    {
      "cell_type": "code",
      "source": [
        "%cd CatVTON"
      ],
      "metadata": {
        "colab": {
          "base_uri": "https://localhost:8080/"
        },
        "id": "DZdItnl6psmm",
        "outputId": "be87135d-e5a9-4bcc-e75b-e1143b7eb2ef"
      },
      "execution_count": 46,
      "outputs": [
        {
          "output_type": "stream",
          "name": "stdout",
          "text": [
            "/content/CatVTON/CatVTON\n"
          ]
        }
      ]
    },
    {
      "cell_type": "code",
      "source": [
        "!pip install -r requirements.txt"
      ],
      "metadata": {
        "colab": {
          "base_uri": "https://localhost:8080/"
        },
        "id": "5jPlBAdkpwIm",
        "outputId": "93038bf9-bf9c-4a19-ee4c-caa1c982e37e"
      },
      "execution_count": 47,
      "outputs": [
        {
          "output_type": "stream",
          "name": "stdout",
          "text": [
            "Requirement already satisfied: torch==2.1.2 in /usr/local/lib/python3.10/dist-packages (from -r requirements.txt (line 1)) (2.1.2)\n",
            "Requirement already satisfied: torchvision==0.16.2 in /usr/local/lib/python3.10/dist-packages (from -r requirements.txt (line 2)) (0.16.2)\n",
            "Requirement already satisfied: accelerate==0.31.0 in /usr/local/lib/python3.10/dist-packages (from -r requirements.txt (line 3)) (0.31.0)\n",
            "Requirement already satisfied: diffusers==0.29.2 in /usr/local/lib/python3.10/dist-packages (from -r requirements.txt (line 4)) (0.29.2)\n",
            "Requirement already satisfied: huggingface_hub==0.23.4 in /usr/local/lib/python3.10/dist-packages (from -r requirements.txt (line 5)) (0.23.4)\n",
            "Requirement already satisfied: matplotlib==3.9.1 in /usr/local/lib/python3.10/dist-packages (from -r requirements.txt (line 6)) (3.9.1)\n",
            "Requirement already satisfied: numpy==1.26.4 in /usr/local/lib/python3.10/dist-packages (from -r requirements.txt (line 7)) (1.26.4)\n",
            "Requirement already satisfied: opencv_python==4.10.0.84 in /usr/local/lib/python3.10/dist-packages (from -r requirements.txt (line 8)) (4.10.0.84)\n",
            "Requirement already satisfied: pillow==10.3.0 in /usr/local/lib/python3.10/dist-packages (from -r requirements.txt (line 9)) (10.3.0)\n",
            "Requirement already satisfied: PyYAML==6.0.1 in /usr/local/lib/python3.10/dist-packages (from -r requirements.txt (line 10)) (6.0.1)\n",
            "Requirement already satisfied: scipy==1.13.1 in /usr/local/lib/python3.10/dist-packages (from -r requirements.txt (line 11)) (1.13.1)\n",
            "Requirement already satisfied: setuptools==51.0.0 in /usr/local/lib/python3.10/dist-packages (from -r requirements.txt (line 12)) (51.0.0)\n",
            "Requirement already satisfied: scikit-image==0.24.0 in /usr/local/lib/python3.10/dist-packages (from -r requirements.txt (line 13)) (0.24.0)\n",
            "Requirement already satisfied: tqdm==4.66.4 in /usr/local/lib/python3.10/dist-packages (from -r requirements.txt (line 14)) (4.66.4)\n",
            "Requirement already satisfied: transformers==4.27.3 in /usr/local/lib/python3.10/dist-packages (from -r requirements.txt (line 15)) (4.27.3)\n",
            "Requirement already satisfied: fvcore==0.1.5.post20221221 in /usr/local/lib/python3.10/dist-packages (from -r requirements.txt (line 16)) (0.1.5.post20221221)\n",
            "Requirement already satisfied: cloudpickle==3.0.0 in /usr/local/lib/python3.10/dist-packages (from -r requirements.txt (line 17)) (3.0.0)\n",
            "Requirement already satisfied: omegaconf==2.3.0 in /usr/local/lib/python3.10/dist-packages (from -r requirements.txt (line 18)) (2.3.0)\n",
            "Requirement already satisfied: pycocotools==2.0.8 in /usr/local/lib/python3.10/dist-packages (from -r requirements.txt (line 19)) (2.0.8)\n",
            "Requirement already satisfied: av==12.3.0 in /usr/local/lib/python3.10/dist-packages (from -r requirements.txt (line 20)) (12.3.0)\n",
            "Requirement already satisfied: gradio==4.41.0 in /usr/local/lib/python3.10/dist-packages (from -r requirements.txt (line 21)) (4.41.0)\n",
            "Requirement already satisfied: filelock in /usr/local/lib/python3.10/dist-packages (from torch==2.1.2->-r requirements.txt (line 1)) (3.16.1)\n",
            "Requirement already satisfied: typing-extensions in /usr/local/lib/python3.10/dist-packages (from torch==2.1.2->-r requirements.txt (line 1)) (4.12.2)\n",
            "Requirement already satisfied: sympy in /usr/local/lib/python3.10/dist-packages (from torch==2.1.2->-r requirements.txt (line 1)) (1.13.1)\n",
            "Requirement already satisfied: networkx in /usr/local/lib/python3.10/dist-packages (from torch==2.1.2->-r requirements.txt (line 1)) (3.4.2)\n",
            "Requirement already satisfied: jinja2 in /usr/local/lib/python3.10/dist-packages (from torch==2.1.2->-r requirements.txt (line 1)) (3.1.4)\n",
            "Requirement already satisfied: fsspec in /usr/local/lib/python3.10/dist-packages (from torch==2.1.2->-r requirements.txt (line 1)) (2024.9.0)\n",
            "Requirement already satisfied: nvidia-cuda-nvrtc-cu12==12.1.105 in /usr/local/lib/python3.10/dist-packages (from torch==2.1.2->-r requirements.txt (line 1)) (12.1.105)\n",
            "Requirement already satisfied: nvidia-cuda-runtime-cu12==12.1.105 in /usr/local/lib/python3.10/dist-packages (from torch==2.1.2->-r requirements.txt (line 1)) (12.1.105)\n",
            "Requirement already satisfied: nvidia-cuda-cupti-cu12==12.1.105 in /usr/local/lib/python3.10/dist-packages (from torch==2.1.2->-r requirements.txt (line 1)) (12.1.105)\n",
            "Requirement already satisfied: nvidia-cudnn-cu12==8.9.2.26 in /usr/local/lib/python3.10/dist-packages (from torch==2.1.2->-r requirements.txt (line 1)) (8.9.2.26)\n",
            "Requirement already satisfied: nvidia-cublas-cu12==12.1.3.1 in /usr/local/lib/python3.10/dist-packages (from torch==2.1.2->-r requirements.txt (line 1)) (12.1.3.1)\n",
            "Requirement already satisfied: nvidia-cufft-cu12==11.0.2.54 in /usr/local/lib/python3.10/dist-packages (from torch==2.1.2->-r requirements.txt (line 1)) (11.0.2.54)\n",
            "Requirement already satisfied: nvidia-curand-cu12==10.3.2.106 in /usr/local/lib/python3.10/dist-packages (from torch==2.1.2->-r requirements.txt (line 1)) (10.3.2.106)\n",
            "Requirement already satisfied: nvidia-cusolver-cu12==11.4.5.107 in /usr/local/lib/python3.10/dist-packages (from torch==2.1.2->-r requirements.txt (line 1)) (11.4.5.107)\n",
            "Requirement already satisfied: nvidia-cusparse-cu12==12.1.0.106 in /usr/local/lib/python3.10/dist-packages (from torch==2.1.2->-r requirements.txt (line 1)) (12.1.0.106)\n",
            "Requirement already satisfied: nvidia-nccl-cu12==2.18.1 in /usr/local/lib/python3.10/dist-packages (from torch==2.1.2->-r requirements.txt (line 1)) (2.18.1)\n",
            "Requirement already satisfied: nvidia-nvtx-cu12==12.1.105 in /usr/local/lib/python3.10/dist-packages (from torch==2.1.2->-r requirements.txt (line 1)) (12.1.105)\n",
            "Requirement already satisfied: triton==2.1.0 in /usr/local/lib/python3.10/dist-packages (from torch==2.1.2->-r requirements.txt (line 1)) (2.1.0)\n",
            "Requirement already satisfied: requests in /usr/local/lib/python3.10/dist-packages (from torchvision==0.16.2->-r requirements.txt (line 2)) (2.32.3)\n",
            "Requirement already satisfied: packaging>=20.0 in /usr/local/lib/python3.10/dist-packages (from accelerate==0.31.0->-r requirements.txt (line 3)) (24.1)\n",
            "Requirement already satisfied: psutil in /usr/local/lib/python3.10/dist-packages (from accelerate==0.31.0->-r requirements.txt (line 3)) (5.9.5)\n",
            "Requirement already satisfied: safetensors>=0.3.1 in /usr/local/lib/python3.10/dist-packages (from accelerate==0.31.0->-r requirements.txt (line 3)) (0.4.5)\n",
            "Requirement already satisfied: importlib-metadata in /usr/local/lib/python3.10/dist-packages (from diffusers==0.29.2->-r requirements.txt (line 4)) (8.5.0)\n",
            "Requirement already satisfied: regex!=2019.12.17 in /usr/local/lib/python3.10/dist-packages (from diffusers==0.29.2->-r requirements.txt (line 4)) (2024.9.11)\n",
            "Requirement already satisfied: contourpy>=1.0.1 in /usr/local/lib/python3.10/dist-packages (from matplotlib==3.9.1->-r requirements.txt (line 6)) (1.3.0)\n",
            "Requirement already satisfied: cycler>=0.10 in /usr/local/lib/python3.10/dist-packages (from matplotlib==3.9.1->-r requirements.txt (line 6)) (0.12.1)\n",
            "Requirement already satisfied: fonttools>=4.22.0 in /usr/local/lib/python3.10/dist-packages (from matplotlib==3.9.1->-r requirements.txt (line 6)) (4.54.1)\n",
            "Requirement already satisfied: kiwisolver>=1.3.1 in /usr/local/lib/python3.10/dist-packages (from matplotlib==3.9.1->-r requirements.txt (line 6)) (1.4.7)\n",
            "Requirement already satisfied: pyparsing>=2.3.1 in /usr/local/lib/python3.10/dist-packages (from matplotlib==3.9.1->-r requirements.txt (line 6)) (3.2.0)\n",
            "Requirement already satisfied: python-dateutil>=2.7 in /usr/local/lib/python3.10/dist-packages (from matplotlib==3.9.1->-r requirements.txt (line 6)) (2.8.2)\n",
            "Requirement already satisfied: imageio>=2.33 in /usr/local/lib/python3.10/dist-packages (from scikit-image==0.24.0->-r requirements.txt (line 13)) (2.36.0)\n",
            "Requirement already satisfied: tifffile>=2022.8.12 in /usr/local/lib/python3.10/dist-packages (from scikit-image==0.24.0->-r requirements.txt (line 13)) (2024.9.20)\n",
            "Requirement already satisfied: lazy-loader>=0.4 in /usr/local/lib/python3.10/dist-packages (from scikit-image==0.24.0->-r requirements.txt (line 13)) (0.4)\n",
            "Requirement already satisfied: tokenizers!=0.11.3,<0.14,>=0.11.1 in /usr/local/lib/python3.10/dist-packages (from transformers==4.27.3->-r requirements.txt (line 15)) (0.13.3)\n",
            "Requirement already satisfied: yacs>=0.1.6 in /usr/local/lib/python3.10/dist-packages (from fvcore==0.1.5.post20221221->-r requirements.txt (line 16)) (0.1.8)\n",
            "Requirement already satisfied: termcolor>=1.1 in /usr/local/lib/python3.10/dist-packages (from fvcore==0.1.5.post20221221->-r requirements.txt (line 16)) (2.5.0)\n",
            "Requirement already satisfied: tabulate in /usr/local/lib/python3.10/dist-packages (from fvcore==0.1.5.post20221221->-r requirements.txt (line 16)) (0.9.0)\n",
            "Requirement already satisfied: iopath>=0.1.7 in /usr/local/lib/python3.10/dist-packages (from fvcore==0.1.5.post20221221->-r requirements.txt (line 16)) (0.1.10)\n",
            "Requirement already satisfied: antlr4-python3-runtime==4.9.* in /usr/local/lib/python3.10/dist-packages (from omegaconf==2.3.0->-r requirements.txt (line 18)) (4.9.3)\n",
            "Requirement already satisfied: aiofiles<24.0,>=22.0 in /usr/local/lib/python3.10/dist-packages (from gradio==4.41.0->-r requirements.txt (line 21)) (23.2.1)\n",
            "Requirement already satisfied: anyio<5.0,>=3.0 in /usr/local/lib/python3.10/dist-packages (from gradio==4.41.0->-r requirements.txt (line 21)) (3.7.1)\n",
            "Requirement already satisfied: fastapi in /usr/local/lib/python3.10/dist-packages (from gradio==4.41.0->-r requirements.txt (line 21)) (0.115.4)\n",
            "Requirement already satisfied: ffmpy in /usr/local/lib/python3.10/dist-packages (from gradio==4.41.0->-r requirements.txt (line 21)) (0.4.0)\n",
            "Requirement already satisfied: gradio-client==1.3.0 in /usr/local/lib/python3.10/dist-packages (from gradio==4.41.0->-r requirements.txt (line 21)) (1.3.0)\n",
            "Requirement already satisfied: httpx>=0.24.1 in /usr/local/lib/python3.10/dist-packages (from gradio==4.41.0->-r requirements.txt (line 21)) (0.27.2)\n",
            "Requirement already satisfied: importlib-resources<7.0,>=1.3 in /usr/local/lib/python3.10/dist-packages (from gradio==4.41.0->-r requirements.txt (line 21)) (6.4.5)\n",
            "Requirement already satisfied: markupsafe~=2.0 in /usr/local/lib/python3.10/dist-packages (from gradio==4.41.0->-r requirements.txt (line 21)) (2.1.5)\n",
            "Requirement already satisfied: orjson~=3.0 in /usr/local/lib/python3.10/dist-packages (from gradio==4.41.0->-r requirements.txt (line 21)) (3.10.10)\n",
            "Requirement already satisfied: pandas<3.0,>=1.0 in /usr/local/lib/python3.10/dist-packages (from gradio==4.41.0->-r requirements.txt (line 21)) (2.2.2)\n",
            "Requirement already satisfied: pydantic>=2.0 in /usr/local/lib/python3.10/dist-packages (from gradio==4.41.0->-r requirements.txt (line 21)) (2.9.2)\n",
            "Requirement already satisfied: pydub in /usr/local/lib/python3.10/dist-packages (from gradio==4.41.0->-r requirements.txt (line 21)) (0.25.1)\n",
            "Requirement already satisfied: python-multipart>=0.0.9 in /usr/local/lib/python3.10/dist-packages (from gradio==4.41.0->-r requirements.txt (line 21)) (0.0.17)\n",
            "Requirement already satisfied: ruff>=0.2.2 in /usr/local/lib/python3.10/dist-packages (from gradio==4.41.0->-r requirements.txt (line 21)) (0.7.2)\n",
            "Requirement already satisfied: semantic-version~=2.0 in /usr/local/lib/python3.10/dist-packages (from gradio==4.41.0->-r requirements.txt (line 21)) (2.10.0)\n",
            "Requirement already satisfied: tomlkit==0.12.0 in /usr/local/lib/python3.10/dist-packages (from gradio==4.41.0->-r requirements.txt (line 21)) (0.12.0)\n",
            "Requirement already satisfied: typer<1.0,>=0.12 in /usr/local/lib/python3.10/dist-packages (from gradio==4.41.0->-r requirements.txt (line 21)) (0.12.5)\n",
            "Requirement already satisfied: urllib3~=2.0 in /usr/local/lib/python3.10/dist-packages (from gradio==4.41.0->-r requirements.txt (line 21)) (2.2.3)\n",
            "Requirement already satisfied: uvicorn>=0.14.0 in /usr/local/lib/python3.10/dist-packages (from gradio==4.41.0->-r requirements.txt (line 21)) (0.32.0)\n",
            "Requirement already satisfied: websockets<13.0,>=10.0 in /usr/local/lib/python3.10/dist-packages (from gradio-client==1.3.0->gradio==4.41.0->-r requirements.txt (line 21)) (12.0)\n",
            "Requirement already satisfied: nvidia-nvjitlink-cu12 in /usr/local/lib/python3.10/dist-packages (from nvidia-cusolver-cu12==11.4.5.107->torch==2.1.2->-r requirements.txt (line 1)) (12.6.77)\n",
            "Requirement already satisfied: idna>=2.8 in /usr/local/lib/python3.10/dist-packages (from anyio<5.0,>=3.0->gradio==4.41.0->-r requirements.txt (line 21)) (3.10)\n",
            "Requirement already satisfied: sniffio>=1.1 in /usr/local/lib/python3.10/dist-packages (from anyio<5.0,>=3.0->gradio==4.41.0->-r requirements.txt (line 21)) (1.3.1)\n",
            "Requirement already satisfied: exceptiongroup in /usr/local/lib/python3.10/dist-packages (from anyio<5.0,>=3.0->gradio==4.41.0->-r requirements.txt (line 21)) (1.2.2)\n",
            "Requirement already satisfied: certifi in /usr/local/lib/python3.10/dist-packages (from httpx>=0.24.1->gradio==4.41.0->-r requirements.txt (line 21)) (2024.8.30)\n",
            "Requirement already satisfied: httpcore==1.* in /usr/local/lib/python3.10/dist-packages (from httpx>=0.24.1->gradio==4.41.0->-r requirements.txt (line 21)) (1.0.6)\n",
            "Requirement already satisfied: h11<0.15,>=0.13 in /usr/local/lib/python3.10/dist-packages (from httpcore==1.*->httpx>=0.24.1->gradio==4.41.0->-r requirements.txt (line 21)) (0.14.0)\n",
            "Requirement already satisfied: portalocker in /usr/local/lib/python3.10/dist-packages (from iopath>=0.1.7->fvcore==0.1.5.post20221221->-r requirements.txt (line 16)) (2.10.1)\n",
            "Requirement already satisfied: pytz>=2020.1 in /usr/local/lib/python3.10/dist-packages (from pandas<3.0,>=1.0->gradio==4.41.0->-r requirements.txt (line 21)) (2024.2)\n",
            "Requirement already satisfied: tzdata>=2022.7 in /usr/local/lib/python3.10/dist-packages (from pandas<3.0,>=1.0->gradio==4.41.0->-r requirements.txt (line 21)) (2024.2)\n",
            "Requirement already satisfied: annotated-types>=0.6.0 in /usr/local/lib/python3.10/dist-packages (from pydantic>=2.0->gradio==4.41.0->-r requirements.txt (line 21)) (0.7.0)\n",
            "Requirement already satisfied: pydantic-core==2.23.4 in /usr/local/lib/python3.10/dist-packages (from pydantic>=2.0->gradio==4.41.0->-r requirements.txt (line 21)) (2.23.4)\n",
            "Requirement already satisfied: six>=1.5 in /usr/local/lib/python3.10/dist-packages (from python-dateutil>=2.7->matplotlib==3.9.1->-r requirements.txt (line 6)) (1.16.0)\n",
            "Requirement already satisfied: click>=8.0.0 in /usr/local/lib/python3.10/dist-packages (from typer<1.0,>=0.12->gradio==4.41.0->-r requirements.txt (line 21)) (8.1.7)\n",
            "Requirement already satisfied: shellingham>=1.3.0 in /usr/local/lib/python3.10/dist-packages (from typer<1.0,>=0.12->gradio==4.41.0->-r requirements.txt (line 21)) (1.5.4)\n",
            "Requirement already satisfied: rich>=10.11.0 in /usr/local/lib/python3.10/dist-packages (from typer<1.0,>=0.12->gradio==4.41.0->-r requirements.txt (line 21)) (13.9.3)\n",
            "Requirement already satisfied: starlette<0.42.0,>=0.40.0 in /usr/local/lib/python3.10/dist-packages (from fastapi->gradio==4.41.0->-r requirements.txt (line 21)) (0.41.2)\n",
            "Requirement already satisfied: zipp>=3.20 in /usr/local/lib/python3.10/dist-packages (from importlib-metadata->diffusers==0.29.2->-r requirements.txt (line 4)) (3.20.2)\n",
            "Requirement already satisfied: charset-normalizer<4,>=2 in /usr/local/lib/python3.10/dist-packages (from requests->torchvision==0.16.2->-r requirements.txt (line 2)) (3.4.0)\n",
            "Requirement already satisfied: mpmath<1.4,>=1.1.0 in /usr/local/lib/python3.10/dist-packages (from sympy->torch==2.1.2->-r requirements.txt (line 1)) (1.3.0)\n",
            "Requirement already satisfied: markdown-it-py>=2.2.0 in /usr/local/lib/python3.10/dist-packages (from rich>=10.11.0->typer<1.0,>=0.12->gradio==4.41.0->-r requirements.txt (line 21)) (3.0.0)\n",
            "Requirement already satisfied: pygments<3.0.0,>=2.13.0 in /usr/local/lib/python3.10/dist-packages (from rich>=10.11.0->typer<1.0,>=0.12->gradio==4.41.0->-r requirements.txt (line 21)) (2.18.0)\n",
            "Requirement already satisfied: mdurl~=0.1 in /usr/local/lib/python3.10/dist-packages (from markdown-it-py>=2.2.0->rich>=10.11.0->typer<1.0,>=0.12->gradio==4.41.0->-r requirements.txt (line 21)) (0.1.2)\n"
          ]
        }
      ]
    },
    {
      "cell_type": "code",
      "source": [
        "!pip install datasets\n",
        "\n",
        "from datasets import load_dataset\n",
        "\n",
        "# Load the DeepFashion dataset\n",
        "ds = load_dataset(\"lirus18/deepfashion\", split='train')\n",
        "\n",
        "# Display dataset information\n",
        "print(ds)"
      ],
      "metadata": {
        "colab": {
          "base_uri": "https://localhost:8080/"
        },
        "id": "K8QP8Jw8pwpA",
        "outputId": "2351c50d-eedd-463a-bfb3-845db1e8e336"
      },
      "execution_count": 48,
      "outputs": [
        {
          "output_type": "stream",
          "name": "stdout",
          "text": [
            "Requirement already satisfied: datasets in /usr/local/lib/python3.10/dist-packages (3.1.0)\n",
            "Requirement already satisfied: filelock in /usr/local/lib/python3.10/dist-packages (from datasets) (3.16.1)\n",
            "Requirement already satisfied: numpy>=1.17 in /usr/local/lib/python3.10/dist-packages (from datasets) (1.26.4)\n",
            "Requirement already satisfied: pyarrow>=15.0.0 in /usr/local/lib/python3.10/dist-packages (from datasets) (17.0.0)\n",
            "Requirement already satisfied: dill<0.3.9,>=0.3.0 in /usr/local/lib/python3.10/dist-packages (from datasets) (0.3.8)\n",
            "Requirement already satisfied: pandas in /usr/local/lib/python3.10/dist-packages (from datasets) (2.2.2)\n",
            "Requirement already satisfied: requests>=2.32.2 in /usr/local/lib/python3.10/dist-packages (from datasets) (2.32.3)\n",
            "Requirement already satisfied: tqdm>=4.66.3 in /usr/local/lib/python3.10/dist-packages (from datasets) (4.66.4)\n",
            "Requirement already satisfied: xxhash in /usr/local/lib/python3.10/dist-packages (from datasets) (3.5.0)\n",
            "Requirement already satisfied: multiprocess<0.70.17 in /usr/local/lib/python3.10/dist-packages (from datasets) (0.70.16)\n",
            "Requirement already satisfied: fsspec<=2024.9.0,>=2023.1.0 in /usr/local/lib/python3.10/dist-packages (from fsspec[http]<=2024.9.0,>=2023.1.0->datasets) (2024.9.0)\n",
            "Requirement already satisfied: aiohttp in /usr/local/lib/python3.10/dist-packages (from datasets) (3.10.10)\n",
            "Requirement already satisfied: huggingface-hub>=0.23.0 in /usr/local/lib/python3.10/dist-packages (from datasets) (0.23.4)\n",
            "Requirement already satisfied: packaging in /usr/local/lib/python3.10/dist-packages (from datasets) (24.1)\n",
            "Requirement already satisfied: pyyaml>=5.1 in /usr/local/lib/python3.10/dist-packages (from datasets) (6.0.1)\n",
            "Requirement already satisfied: aiohappyeyeballs>=2.3.0 in /usr/local/lib/python3.10/dist-packages (from aiohttp->datasets) (2.4.3)\n",
            "Requirement already satisfied: aiosignal>=1.1.2 in /usr/local/lib/python3.10/dist-packages (from aiohttp->datasets) (1.3.1)\n",
            "Requirement already satisfied: attrs>=17.3.0 in /usr/local/lib/python3.10/dist-packages (from aiohttp->datasets) (24.2.0)\n",
            "Requirement already satisfied: frozenlist>=1.1.1 in /usr/local/lib/python3.10/dist-packages (from aiohttp->datasets) (1.5.0)\n",
            "Requirement already satisfied: multidict<7.0,>=4.5 in /usr/local/lib/python3.10/dist-packages (from aiohttp->datasets) (6.1.0)\n",
            "Requirement already satisfied: yarl<2.0,>=1.12.0 in /usr/local/lib/python3.10/dist-packages (from aiohttp->datasets) (1.17.0)\n",
            "Requirement already satisfied: async-timeout<5.0,>=4.0 in /usr/local/lib/python3.10/dist-packages (from aiohttp->datasets) (4.0.3)\n",
            "Requirement already satisfied: typing-extensions>=3.7.4.3 in /usr/local/lib/python3.10/dist-packages (from huggingface-hub>=0.23.0->datasets) (4.12.2)\n",
            "Requirement already satisfied: charset-normalizer<4,>=2 in /usr/local/lib/python3.10/dist-packages (from requests>=2.32.2->datasets) (3.4.0)\n",
            "Requirement already satisfied: idna<4,>=2.5 in /usr/local/lib/python3.10/dist-packages (from requests>=2.32.2->datasets) (3.10)\n",
            "Requirement already satisfied: urllib3<3,>=1.21.1 in /usr/local/lib/python3.10/dist-packages (from requests>=2.32.2->datasets) (2.2.3)\n",
            "Requirement already satisfied: certifi>=2017.4.17 in /usr/local/lib/python3.10/dist-packages (from requests>=2.32.2->datasets) (2024.8.30)\n",
            "Requirement already satisfied: python-dateutil>=2.8.2 in /usr/local/lib/python3.10/dist-packages (from pandas->datasets) (2.8.2)\n",
            "Requirement already satisfied: pytz>=2020.1 in /usr/local/lib/python3.10/dist-packages (from pandas->datasets) (2024.2)\n",
            "Requirement already satisfied: tzdata>=2022.7 in /usr/local/lib/python3.10/dist-packages (from pandas->datasets) (2024.2)\n",
            "Requirement already satisfied: six>=1.5 in /usr/local/lib/python3.10/dist-packages (from python-dateutil>=2.8.2->pandas->datasets) (1.16.0)\n",
            "Requirement already satisfied: propcache>=0.2.0 in /usr/local/lib/python3.10/dist-packages (from yarl<2.0,>=1.12.0->aiohttp->datasets) (0.2.0)\n",
            "Dataset({\n",
            "    features: ['image', 'openpose', 'cloth', 'caption'],\n",
            "    num_rows: 13679\n",
            "})\n"
          ]
        }
      ]
    },
    {
      "cell_type": "code",
      "source": [
        "import os\n",
        "from PIL import Image\n",
        "import torch\n",
        "from torchvision import transforms"
      ],
      "metadata": {
        "id": "uTDYiZ5RqyZJ"
      },
      "execution_count": 49,
      "outputs": []
    },
    {
      "cell_type": "code",
      "source": [
        "# Save sample images for model and clothing\n",
        "ds[0]['image'].save(\"model_sample.jpg\")\n",
        "ds[1]['image'].save(\"clothing_sample.jpg\")\n",
        "\n",
        "# Verify the saved images\n",
        "from IPython.display import Image as IPImage, display\n",
        "\n",
        "print(\"Model Image:\")\n",
        "display(IPImage(\"model_sample.jpg\"))\n",
        "\n",
        "print(\"Clothing Image:\")\n",
        "display(IPImage(\"clothing_sample.jpg\"))"
      ],
      "metadata": {
        "colab": {
          "base_uri": "https://localhost:8080/",
          "height": 1000
        },
        "id": "wVmzjMsCrGV5",
        "outputId": "63c5ba19-bedd-4a62-c912-368cce423b7b"
      },
      "execution_count": 50,
      "outputs": [
        {
          "output_type": "stream",
          "name": "stdout",
          "text": [
            "Model Image:\n"
          ]
        },
        {
          "output_type": "display_data",
          "data": {
            "image/jpeg": "[encoded data removed]",
            "text/plain": [
              "<IPython.core.display.Image object>"
            ]
          },
          "metadata": {}
        },
        {
          "output_type": "stream",
          "name": "stdout",
          "text": [
            "Clothing Image:\n"
          ]
        },
        {
          "output_type": "display_data",
          "data": {
            "image/jpeg": "[encoded data removed]",
            "text/plain": [
              "<IPython.core.display.Image object>"
            ]
          },
          "metadata": {}
        }
      ]
    },
    {
      "cell_type": "code",
      "source": [
        "#Preprocess the Images"
      ],
      "metadata": {
        "id": "wPTZbLLgrKrs"
      },
      "execution_count": 51,
      "outputs": []
    },
    {
      "cell_type": "code",
      "source": [
        "from PIL import Image\n",
        "import torchvision.transforms as transforms"
      ],
      "metadata": {
        "id": "iOmKeoXQrMyA"
      },
      "execution_count": 52,
      "outputs": []
    },
    {
      "cell_type": "code",
      "source": [
        "# Define preprocessing transformations\n",
        "transform = transforms.Compose([\n",
        "    transforms.Resize((256, 192)),\n",
        "    transforms.ToTensor(),\n",
        "    transforms.Normalize(mean=[0.5, 0.5, 0.5], std=[0.5, 0.5, 0.5])\n",
        "])"
      ],
      "metadata": {
        "id": "svQkU1cYrOG4"
      },
      "execution_count": 53,
      "outputs": []
    },
    {
      "cell_type": "code",
      "source": [
        "# Preprocess model and clothing images\n",
        "model_image = Image.open(\"model_sample.jpg\").convert(\"RGB\")\n",
        "clothing_image = Image.open(\"clothing_sample.jpg\").convert(\"RGB\")\n",
        "\n",
        "model_input = transform(model_image).unsqueeze(0)\n",
        "clothing_input = transform(clothing_image).unsqueeze(0)\n"
      ],
      "metadata": {
        "id": "rUtTvDoDrPqb"
      },
      "execution_count": 54,
      "outputs": []
    },
    {
      "cell_type": "code",
      "source": [
        "!ls"
      ],
      "metadata": {
        "colab": {
          "base_uri": "https://localhost:8080/"
        },
        "id": "deYwsXbMrQ5q",
        "outputId": "c29c17cc-df51-4365-89b6-8c1c7404b2e3"
      },
      "execution_count": 55,
      "outputs": [
        {
          "output_type": "stream",
          "name": "stdout",
          "text": [
            "app_p2p.py\t     detectron2    LICENSE\t\t\t__pycache__\t  utils.py\n",
            "app.py\t\t     eval.py\t   model\t\t\tREADME.md\n",
            "clothing_sample.jpg  index.html    model_sample.jpg\t\trequirements.txt\n",
            "densepose\t     inference.py  preprocess_agnostic_mask.py\tresource\n"
          ]
        }
      ]
    },
    {
      "cell_type": "code",
      "source": [
        "!cat /content/CatVTON/model/pipeline.py\n"
      ],
      "metadata": {
        "colab": {
          "base_uri": "https://localhost:8080/"
        },
        "id": "MJLPDYBErXXh",
        "outputId": "68eae3c7-bb63-49ca-cbc5-a3c3dd6fb88d"
      },
      "execution_count": 56,
      "outputs": [
        {
          "output_type": "stream",
          "name": "stdout",
          "text": [
            "import inspect\n",
            "import os\n",
            "from typing import Union\n",
            "\n",
            "import PIL\n",
            "import numpy as np\n",
            "import torch\n",
            "import tqdm\n",
            "from accelerate import load_checkpoint_in_model\n",
            "from diffusers import AutoencoderKL, DDIMScheduler, UNet2DConditionModel\n",
            "from diffusers.pipelines.stable_diffusion.safety_checker import \\\n",
            "    StableDiffusionSafetyChecker\n",
            "from diffusers.utils.torch_utils import randn_tensor\n",
            "from huggingface_hub import snapshot_download\n",
            "from transformers import CLIPImageProcessor\n",
            "\n",
            "from model.attn_processor import SkipAttnProcessor\n",
            "from model.utils import get_trainable_module, init_adapter\n",
            "from utils import (compute_vae_encodings, numpy_to_pil, prepare_image,\n",
            "                   prepare_mask_image, resize_and_crop, resize_and_padding)\n",
            "\n",
            "\n",
            "class CatVTONPipeline:\n",
            "    def __init__(\n",
            "        self, \n",
            "        base_ckpt, \n",
            "        attn_ckpt, \n",
            "        attn_ckpt_version=\"mix\",\n",
            "        weight_dtype=torch.float32,\n",
            "        device='cuda',\n",
            "        compile=False,\n",
            "        skip_safety_check=False,\n",
            "        use_tf32=True,\n",
            "    ):\n",
            "        self.device = device\n",
            "        self.weight_dtype = weight_dtype\n",
            "        self.skip_safety_check = skip_safety_check\n",
            "\n",
            "        self.noise_scheduler = DDIMScheduler.from_pretrained(base_ckpt, subfolder=\"scheduler\")\n",
            "        self.vae = AutoencoderKL.from_pretrained(\"stabilityai/sd-vae-ft-mse\").to(device, dtype=weight_dtype)\n",
            "        if not skip_safety_check:\n",
            "            self.feature_extractor = CLIPImageProcessor.from_pretrained(base_ckpt, subfolder=\"feature_extractor\")\n",
            "            self.safety_checker = StableDiffusionSafetyChecker.from_pretrained(base_ckpt, subfolder=\"safety_checker\").to(device, dtype=weight_dtype)\n",
            "        self.unet = UNet2DConditionModel.from_pretrained(base_ckpt, subfolder=\"unet\").to(device, dtype=weight_dtype)\n",
            "        init_adapter(self.unet, cross_attn_cls=SkipAttnProcessor)  # Skip Cross-Attention\n",
            "        self.attn_modules = get_trainable_module(self.unet, \"attention\")\n",
            "        self.auto_attn_ckpt_load(attn_ckpt, attn_ckpt_version)\n",
            "        # Pytorch 2.0 Compile\n",
            "        if compile:\n",
            "            self.unet = torch.compile(self.unet)\n",
            "            self.vae = torch.compile(self.vae, mode=\"reduce-overhead\")\n",
            "            \n",
            "        # Enable TF32 for faster training on Ampere GPUs (A100 and RTX 30 series).\n",
            "        if use_tf32:\n",
            "            torch.set_float32_matmul_precision(\"high\")\n",
            "            torch.backends.cuda.matmul.allow_tf32 = True\n",
            "\n",
            "    def auto_attn_ckpt_load(self, attn_ckpt, version):\n",
            "        sub_folder = {\n",
            "            \"mix\": \"mix-48k-1024\",\n",
            "            \"vitonhd\": \"vitonhd-16k-512\",\n",
            "            \"dresscode\": \"dresscode-16k-512\",\n",
            "        }[version]\n",
            "        if os.path.exists(attn_ckpt):\n",
            "            load_checkpoint_in_model(self.attn_modules, os.path.join(attn_ckpt, sub_folder, 'attention'))\n",
            "        else:\n",
            "            repo_path = snapshot_download(repo_id=attn_ckpt)\n",
            "            print(f\"Downloaded {attn_ckpt} to {repo_path}\")\n",
            "            load_checkpoint_in_model(self.attn_modules, os.path.join(repo_path, sub_folder, 'attention'))\n",
            "            \n",
            "    def run_safety_checker(self, image):\n",
            "        if self.safety_checker is None:\n",
            "            has_nsfw_concept = None\n",
            "        else:\n",
            "            safety_checker_input = self.feature_extractor(image, return_tensors=\"pt\").to(self.device)\n",
            "            image, has_nsfw_concept = self.safety_checker(\n",
            "                images=image, clip_input=safety_checker_input.pixel_values.to(self.weight_dtype)\n",
            "            )\n",
            "        return image, has_nsfw_concept\n",
            "    \n",
            "    def check_inputs(self, image, condition_image, mask, width, height):\n",
            "        if isinstance(image, torch.Tensor) and isinstance(condition_image, torch.Tensor) and isinstance(mask, torch.Tensor):\n",
            "            return image, condition_image, mask\n",
            "        assert image.size == mask.size, \"Image and mask must have the same size\"\n",
            "        image = resize_and_crop(image, (width, height))\n",
            "        mask = resize_and_crop(mask, (width, height))\n",
            "        condition_image = resize_and_padding(condition_image, (width, height))\n",
            "        return image, condition_image, mask\n",
            "    \n",
            "    def prepare_extra_step_kwargs(self, generator, eta):\n",
            "        # prepare extra kwargs for the scheduler step, since not all schedulers have the same signature\n",
            "        # eta (η) is only used with the DDIMScheduler, it will be ignored for other schedulers.\n",
            "        # eta corresponds to η in DDIM paper: https://arxiv.org/abs/2010.02502\n",
            "        # and should be between [0, 1]\n",
            "\n",
            "        accepts_eta = \"eta\" in set(\n",
            "            inspect.signature(self.noise_scheduler.step).parameters.keys()\n",
            "        )\n",
            "        extra_step_kwargs = {}\n",
            "        if accepts_eta:\n",
            "            extra_step_kwargs[\"eta\"] = eta\n",
            "\n",
            "        # check if the scheduler accepts generator\n",
            "        accepts_generator = \"generator\" in set(\n",
            "            inspect.signature(self.noise_scheduler.step).parameters.keys()\n",
            "        )\n",
            "        if accepts_generator:\n",
            "            extra_step_kwargs[\"generator\"] = generator\n",
            "        return extra_step_kwargs\n",
            "\n",
            "    @torch.no_grad()\n",
            "    def __call__(\n",
            "        self, \n",
            "        image: Union[PIL.Image.Image, torch.Tensor],\n",
            "        condition_image: Union[PIL.Image.Image, torch.Tensor],\n",
            "        mask: Union[PIL.Image.Image, torch.Tensor],\n",
            "        num_inference_steps: int = 50,\n",
            "        guidance_scale: float = 2.5,\n",
            "        height: int = 1024,\n",
            "        width: int = 768,\n",
            "        generator=None,\n",
            "        eta=1.0,\n",
            "        **kwargs\n",
            "    ):\n",
            "        concat_dim = -2  # FIXME: y axis concat\n",
            "        # Prepare inputs to Tensor\n",
            "        image, condition_image, mask = self.check_inputs(image, condition_image, mask, width, height)\n",
            "        image = prepare_image(image).to(self.device, dtype=self.weight_dtype)\n",
            "        condition_image = prepare_image(condition_image).to(self.device, dtype=self.weight_dtype)\n",
            "        mask = prepare_mask_image(mask).to(self.device, dtype=self.weight_dtype)\n",
            "        # Mask image\n",
            "        masked_image = image * (mask < 0.5)\n",
            "        # VAE encoding\n",
            "        masked_latent = compute_vae_encodings(masked_image, self.vae)\n",
            "        condition_latent = compute_vae_encodings(condition_image, self.vae)\n",
            "        mask_latent = torch.nn.functional.interpolate(mask, size=masked_latent.shape[-2:], mode=\"nearest\")\n",
            "        del image, mask, condition_image\n",
            "        # Concatenate latents\n",
            "        masked_latent_concat = torch.cat([masked_latent, condition_latent], dim=concat_dim)\n",
            "        mask_latent_concat = torch.cat([mask_latent, torch.zeros_like(mask_latent)], dim=concat_dim)\n",
            "        # Prepare noise\n",
            "        latents = randn_tensor(\n",
            "            masked_latent_concat.shape,\n",
            "            generator=generator,\n",
            "            device=masked_latent_concat.device,\n",
            "            dtype=self.weight_dtype,\n",
            "        )\n",
            "        # Prepare timesteps\n",
            "        self.noise_scheduler.set_timesteps(num_inference_steps, device=self.device)\n",
            "        timesteps = self.noise_scheduler.timesteps\n",
            "        latents = latents * self.noise_scheduler.init_noise_sigma\n",
            "        # Classifier-Free Guidance\n",
            "        if do_classifier_free_guidance := (guidance_scale > 1.0):\n",
            "            masked_latent_concat = torch.cat(\n",
            "                [\n",
            "                    torch.cat([masked_latent, torch.zeros_like(condition_latent)], dim=concat_dim),\n",
            "                    masked_latent_concat,\n",
            "                ]\n",
            "            )\n",
            "            mask_latent_concat = torch.cat([mask_latent_concat] * 2)\n",
            "\n",
            "        # Denoising loop\n",
            "        extra_step_kwargs = self.prepare_extra_step_kwargs(generator, eta)\n",
            "        num_warmup_steps = (len(timesteps) - num_inference_steps * self.noise_scheduler.order)\n",
            "        with tqdm.tqdm(total=num_inference_steps) as progress_bar:\n",
            "            for i, t in enumerate(timesteps):\n",
            "                # expand the latents if we are doing classifier free guidance\n",
            "                non_inpainting_latent_model_input = (torch.cat([latents] * 2) if do_classifier_free_guidance else latents)\n",
            "                non_inpainting_latent_model_input = self.noise_scheduler.scale_model_input(non_inpainting_latent_model_input, t)\n",
            "                # prepare the input for the inpainting model\n",
            "                inpainting_latent_model_input = torch.cat([non_inpainting_latent_model_input, mask_latent_concat, masked_latent_concat], dim=1)\n",
            "                # predict the noise residual\n",
            "                noise_pred= self.unet(\n",
            "                    inpainting_latent_model_input,\n",
            "                    t.to(self.device),\n",
            "                    encoder_hidden_states=None, # FIXME\n",
            "                    return_dict=False,\n",
            "                )[0]\n",
            "                # perform guidance\n",
            "                if do_classifier_free_guidance:\n",
            "                    noise_pred_uncond, noise_pred_text = noise_pred.chunk(2)\n",
            "                    noise_pred = noise_pred_uncond + guidance_scale * (\n",
            "                        noise_pred_text - noise_pred_uncond\n",
            "                    )\n",
            "                # compute the previous noisy sample x_t -> x_t-1\n",
            "                latents = self.noise_scheduler.step(\n",
            "                    noise_pred, t, latents, **extra_step_kwargs\n",
            "                ).prev_sample\n",
            "                # call the callback, if provided\n",
            "                if i == len(timesteps) - 1 or (\n",
            "                    (i + 1) > num_warmup_steps\n",
            "                    and (i + 1) % self.noise_scheduler.order == 0\n",
            "                ):\n",
            "                    progress_bar.update()\n",
            "\n",
            "        # Decode the final latents\n",
            "        latents = latents.split(latents.shape[concat_dim] // 2, dim=concat_dim)[0]\n",
            "        latents = 1 / self.vae.config.scaling_factor * latents\n",
            "        image = self.vae.decode(latents.to(self.device, dtype=self.weight_dtype)).sample\n",
            "        image = (image / 2 + 0.5).clamp(0, 1)\n",
            "        # we always cast to float32 as this does not cause significant overhead and is compatible with bfloat16\n",
            "        image = image.cpu().permute(0, 2, 3, 1).float().numpy()\n",
            "        image = numpy_to_pil(image)\n",
            "        \n",
            "        # Safety Check\n",
            "        if not self.skip_safety_check:\n",
            "            current_script_directory = os.path.dirname(os.path.realpath(__file__))\n",
            "            nsfw_image = os.path.join(os.path.dirname(current_script_directory), 'resource', 'img', 'NSFW.jpg')\n",
            "            nsfw_image = PIL.Image.open(nsfw_image).resize(image[0].size)\n",
            "            image_np = np.array(image)\n",
            "            _, has_nsfw_concept = self.run_safety_checker(image=image_np)\n",
            "            for i, not_safe in enumerate(has_nsfw_concept):\n",
            "                if not_safe:\n",
            "                    image[i] = nsfw_image\n",
            "        return image\n",
            "\n",
            "\n",
            "class CatVTONPix2PixPipeline(CatVTONPipeline):\n",
            "    def auto_attn_ckpt_load(self, attn_ckpt, version):\n",
            "        # TODO: Temperal fix for the model version\n",
            "        if os.path.exists(attn_ckpt):\n",
            "            load_checkpoint_in_model(self.attn_modules, os.path.join(attn_ckpt, version, 'attention'))\n",
            "        else:\n",
            "            repo_path = snapshot_download(repo_id=attn_ckpt)\n",
            "            print(f\"Downloaded {attn_ckpt} to {repo_path}\")\n",
            "            load_checkpoint_in_model(self.attn_modules, os.path.join(repo_path, version, 'attention'))\n",
            "    \n",
            "    def check_inputs(self, image, condition_image, width, height):\n",
            "        if isinstance(image, torch.Tensor) and isinstance(condition_image, torch.Tensor) and isinstance(torch.Tensor):\n",
            "            return image, condition_image\n",
            "        image = resize_and_crop(image, (width, height))\n",
            "        condition_image = resize_and_padding(condition_image, (width, height))\n",
            "        return image, condition_image\n",
            "\n",
            "    @torch.no_grad()\n",
            "    def __call__(\n",
            "        self, \n",
            "        image: Union[PIL.Image.Image, torch.Tensor],\n",
            "        condition_image: Union[PIL.Image.Image, torch.Tensor],\n",
            "        num_inference_steps: int = 50,\n",
            "        guidance_scale: float = 2.5,\n",
            "        height: int = 1024,\n",
            "        width: int = 768,\n",
            "        generator=None,\n",
            "        eta=1.0,\n",
            "        **kwargs\n",
            "    ):\n",
            "        concat_dim = -1\n",
            "        # Prepare inputs to Tensor\n",
            "        image, condition_image = self.check_inputs(image, condition_image, width, height)\n",
            "        image = prepare_image(image).to(self.device, dtype=self.weight_dtype)\n",
            "        condition_image = prepare_image(condition_image).to(self.device, dtype=self.weight_dtype)\n",
            "        # VAE encoding\n",
            "        image_latent = compute_vae_encodings(image, self.vae)\n",
            "        condition_latent = compute_vae_encodings(condition_image, self.vae)\n",
            "        del image, condition_image\n",
            "        # Concatenate latents\n",
            "        condition_latent_concat = torch.cat([image_latent, condition_latent], dim=concat_dim)\n",
            "        # Prepare noise\n",
            "        latents = randn_tensor(\n",
            "            condition_latent_concat.shape,\n",
            "            generator=generator,\n",
            "            device=condition_latent_concat.device,\n",
            "            dtype=self.weight_dtype,\n",
            "        )\n",
            "        # Prepare timesteps\n",
            "        self.noise_scheduler.set_timesteps(num_inference_steps, device=self.device)\n",
            "        timesteps = self.noise_scheduler.timesteps\n",
            "        latents = latents * self.noise_scheduler.init_noise_sigma\n",
            "        # Classifier-Free Guidance\n",
            "        if do_classifier_free_guidance := (guidance_scale > 1.0):\n",
            "            condition_latent_concat = torch.cat(\n",
            "                [\n",
            "                    torch.cat([image_latent, torch.zeros_like(condition_latent)], dim=concat_dim),\n",
            "                    condition_latent_concat,\n",
            "                ]\n",
            "            )\n",
            "\n",
            "        # Denoising loop\n",
            "        extra_step_kwargs = self.prepare_extra_step_kwargs(generator, eta)\n",
            "        num_warmup_steps = (len(timesteps) - num_inference_steps * self.noise_scheduler.order)\n",
            "        with tqdm.tqdm(total=num_inference_steps) as progress_bar:\n",
            "            for i, t in enumerate(timesteps):\n",
            "                # expand the latents if we are doing classifier free guidance\n",
            "                latent_model_input = (torch.cat([latents] * 2) if do_classifier_free_guidance else latents)\n",
            "                latent_model_input = self.noise_scheduler.scale_model_input(latent_model_input, t)\n",
            "                # prepare the input for the inpainting model\n",
            "                p2p_latent_model_input = torch.cat([latent_model_input, condition_latent_concat], dim=1)\n",
            "                # predict the noise residual\n",
            "                noise_pred= self.unet(\n",
            "                    p2p_latent_model_input,\n",
            "                    t.to(self.device),\n",
            "                    encoder_hidden_states=None, \n",
            "                    return_dict=False,\n",
            "                )[0]\n",
            "                # perform guidance\n",
            "                if do_classifier_free_guidance:\n",
            "                    noise_pred_uncond, noise_pred_text = noise_pred.chunk(2)\n",
            "                    noise_pred = noise_pred_uncond + guidance_scale * (\n",
            "                        noise_pred_text - noise_pred_uncond\n",
            "                    )\n",
            "                # compute the previous noisy sample x_t -> x_t-1\n",
            "                latents = self.noise_scheduler.step(\n",
            "                    noise_pred, t, latents, **extra_step_kwargs\n",
            "                ).prev_sample\n",
            "                # call the callback, if provided\n",
            "                if i == len(timesteps) - 1 or (\n",
            "                    (i + 1) > num_warmup_steps\n",
            "                    and (i + 1) % self.noise_scheduler.order == 0\n",
            "                ):\n",
            "                    progress_bar.update()\n",
            "\n",
            "        # Decode the final latents\n",
            "        latents = latents.split(latents.shape[concat_dim] // 2, dim=concat_dim)[0]\n",
            "        latents = 1 / self.vae.config.scaling_factor * latents\n",
            "        image = self.vae.decode(latents.to(self.device, dtype=self.weight_dtype)).sample\n",
            "        image = (image / 2 + 0.5).clamp(0, 1)\n",
            "        # we always cast to float32 as this does not cause significant overhead and is compatible with bfloat16\n",
            "        image = image.cpu().permute(0, 2, 3, 1).float().numpy()\n",
            "        image = numpy_to_pil(image)\n",
            "        \n",
            "        # Safety Check\n",
            "        if not self.skip_safety_check:\n",
            "            current_script_directory = os.path.dirname(os.path.realpath(__file__))\n",
            "            nsfw_image = os.path.join(os.path.dirname(current_script_directory), 'resource', 'img', 'NSFW.jpg')\n",
            "            nsfw_image = PIL.Image.open(nsfw_image).resize(image[0].size)\n",
            "            image_np = np.array(image)\n",
            "            _, has_nsfw_concept = self.run_safety_checker(image=image_np)\n",
            "            for i, not_safe in enumerate(has_nsfw_concept):\n",
            "                if not_safe:\n",
            "                    image[i] = nsfw_image\n",
            "        return image\n"
          ]
        }
      ]
    },
    {
      "cell_type": "code",
      "source": [
        "!grep -rnw '/content/drive/MyDrive/Pallav-Task_MKS_Digitech_LLP/CatVTON' -e 'CatVTON'\n"
      ],
      "metadata": {
        "colab": {
          "base_uri": "https://localhost:8080/"
        },
        "id": "cZom7L9drpsk",
        "outputId": "10857d4c-baa7-4723-e9e3-eb7845153982"
      },
      "execution_count": 57,
      "outputs": [
        {
          "output_type": "stream",
          "name": "stdout",
          "text": [
            "grep: /content/drive/MyDrive/Pallav-Task_MKS_Digitech_LLP/CatVTON: No such file or directory\n"
          ]
        }
      ]
    },
    {
      "cell_type": "code",
      "source": [
        "import sys\n",
        "sys.path.append('/content/drive/MyDrive/Pallav-Task_MKS_Digitech_LLP/CatVTON/model')\n"
      ],
      "metadata": {
        "id": "AfqW1xhvsShV"
      },
      "execution_count": 58,
      "outputs": []
    },
    {
      "cell_type": "code",
      "source": [
        "!find /content -name \"pipeline.py\""
      ],
      "metadata": {
        "colab": {
          "base_uri": "https://localhost:8080/"
        },
        "id": "2LtWRvbJvYJQ",
        "outputId": "cccbf4d0-c70a-4bb6-f394-3fd067ef4831"
      },
      "execution_count": 59,
      "outputs": [
        {
          "output_type": "stream",
          "name": "stdout",
          "text": [
            "/content/CatVTON/model/pipeline.py\n",
            "/content/CatVTON/CatVTON/model/pipeline.py\n"
          ]
        }
      ]
    },
    {
      "cell_type": "code",
      "source": [
        "!grep -rnw '/content/CatVTON' -e 'class CatVTONPipeline'\n"
      ],
      "metadata": {
        "colab": {
          "base_uri": "https://localhost:8080/"
        },
        "id": "yAyE7rdbwCHb",
        "outputId": "259c3efc-0dd3-49fb-ef60-20e4e00a7dc4"
      },
      "execution_count": 60,
      "outputs": [
        {
          "output_type": "stream",
          "name": "stdout",
          "text": [
            "/content/CatVTON/model/pipeline.py:23:class CatVTONPipeline:\n",
            "/content/CatVTON/CatVTON/model/pipeline.py:23:class CatVTONPipeline:\n"
          ]
        }
      ]
    },
    {
      "cell_type": "code",
      "source": [
        "import sys\n",
        "sys.path.append('/content/CatVTON/model')\n"
      ],
      "metadata": {
        "id": "DlHW2DYPwfMt"
      },
      "execution_count": 61,
      "outputs": []
    },
    {
      "cell_type": "code",
      "source": [
        "from pipeline import CatVTONPipeline"
      ],
      "metadata": {
        "id": "ZTHphuTNycCv"
      },
      "execution_count": 62,
      "outputs": []
    },
    {
      "cell_type": "code",
      "source": [
        "import os\n",
        "base_ckpt_path = '/content/CatVTON/detectron2/base_model.pth'\n",
        "attn_ckpt_path = '/content/CatVTON/detectron2/attn_model.pth'\n",
        "\n",
        "# Check if the files exist\n",
        "os.path.exists(base_ckpt_path), os.path.exists(attn_ckpt_path)\n"
      ],
      "metadata": {
        "colab": {
          "base_uri": "https://localhost:8080/"
        },
        "id": "S_kqEEVEyeOa",
        "outputId": "e5bc39e1-48b2-4e6d-fb5c-3eda7877e848"
      },
      "execution_count": 63,
      "outputs": [
        {
          "output_type": "execute_result",
          "data": {
            "text/plain": [
              "(False, False)"
            ]
          },
          "metadata": {},
          "execution_count": 63
        }
      ]
    },
    {
      "cell_type": "code",
      "source": [
        "pipeline = CatVTONPipeline(base_ckpt_path,attn_ckpt_path)"
      ],
      "metadata": {
        "colab": {
          "base_uri": "https://localhost:8080/",
          "height": 495
        },
        "id": "VPqdTnFJ4dzb",
        "outputId": "47014a7f-9143-48d9-b6a8-407f2f6ad498"
      },
      "execution_count": 66,
      "outputs": [
        {
          "output_type": "error",
          "ename": "OSError",
          "evalue": "We couldn't connect to 'https://huggingface.co' to load this model, couldn't find it in the cached files and it looks like /content/CatVTON/detectron2/base_model.pth is not the path to a directory containing a scheduler_config.json file.\nCheckout your internet connection or see how to run the library in offline mode at 'https://huggingface.co/docs/diffusers/installation#offline-mode'.",
          "traceback": [
            "\u001b[0;31m---------------------------------------------------------------------------\u001b[0m",
            "\u001b[0;31mHFValidationError\u001b[0m                         Traceback (most recent call last)",
            "\u001b[0;32m/usr/local/lib/python3.10/dist-packages/diffusers/configuration_utils.py\u001b[0m in \u001b[0;36mload_config\u001b[0;34m(cls, pretrained_model_name_or_path, return_unused_kwargs, return_commit_hash, **kwargs)\u001b[0m\n\u001b[1;32m    382\u001b[0m                 \u001b[0;31m# Load from URL or cache if already cached\u001b[0m\u001b[0;34m\u001b[0m\u001b[0;34m\u001b[0m\u001b[0m\n\u001b[0;32m--> 383\u001b[0;31m                 config_file = hf_hub_download(\n\u001b[0m\u001b[1;32m    384\u001b[0m                     \u001b[0mpretrained_model_name_or_path\u001b[0m\u001b[0;34m,\u001b[0m\u001b[0;34m\u001b[0m\u001b[0;34m\u001b[0m\u001b[0m\n",
            "\u001b[0;32m/usr/local/lib/python3.10/dist-packages/huggingface_hub/utils/_validators.py\u001b[0m in \u001b[0;36m_inner_fn\u001b[0;34m(*args, **kwargs)\u001b[0m\n\u001b[1;32m    105\u001b[0m             \u001b[0;32mif\u001b[0m \u001b[0marg_name\u001b[0m \u001b[0;32min\u001b[0m \u001b[0;34m[\u001b[0m\u001b[0;34m\"repo_id\"\u001b[0m\u001b[0;34m,\u001b[0m \u001b[0;34m\"from_id\"\u001b[0m\u001b[0;34m,\u001b[0m \u001b[0;34m\"to_id\"\u001b[0m\u001b[0;34m]\u001b[0m\u001b[0;34m:\u001b[0m\u001b[0;34m\u001b[0m\u001b[0;34m\u001b[0m\u001b[0m\n\u001b[0;32m--> 106\u001b[0;31m                 \u001b[0mvalidate_repo_id\u001b[0m\u001b[0;34m(\u001b[0m\u001b[0marg_value\u001b[0m\u001b[0;34m)\u001b[0m\u001b[0;34m\u001b[0m\u001b[0;34m\u001b[0m\u001b[0m\n\u001b[0m\u001b[1;32m    107\u001b[0m \u001b[0;34m\u001b[0m\u001b[0m\n",
            "\u001b[0;32m/usr/local/lib/python3.10/dist-packages/huggingface_hub/utils/_validators.py\u001b[0m in \u001b[0;36mvalidate_repo_id\u001b[0;34m(repo_id)\u001b[0m\n\u001b[1;32m    153\u001b[0m     \u001b[0;32mif\u001b[0m \u001b[0mrepo_id\u001b[0m\u001b[0;34m.\u001b[0m\u001b[0mcount\u001b[0m\u001b[0;34m(\u001b[0m\u001b[0;34m\"/\"\u001b[0m\u001b[0;34m)\u001b[0m \u001b[0;34m>\u001b[0m \u001b[0;36m1\u001b[0m\u001b[0;34m:\u001b[0m\u001b[0;34m\u001b[0m\u001b[0;34m\u001b[0m\u001b[0m\n\u001b[0;32m--> 154\u001b[0;31m         raise HFValidationError(\n\u001b[0m\u001b[1;32m    155\u001b[0m             \u001b[0;34m\"Repo id must be in the form 'repo_name' or 'namespace/repo_name':\"\u001b[0m\u001b[0;34m\u001b[0m\u001b[0;34m\u001b[0m\u001b[0m\n",
            "\u001b[0;31mHFValidationError\u001b[0m: Repo id must be in the form 'repo_name' or 'namespace/repo_name': '/content/CatVTON/detectron2/base_model.pth'. Use `repo_type` argument if needed.",
            "\nDuring handling of the above exception, another exception occurred:\n",
            "\u001b[0;31mOSError\u001b[0m                                   Traceback (most recent call last)",
            "\u001b[0;32m<ipython-input-66-0f2ce7e9f3cb>\u001b[0m in \u001b[0;36m<cell line: 1>\u001b[0;34m()\u001b[0m\n\u001b[0;32m----> 1\u001b[0;31m \u001b[0mpipeline\u001b[0m \u001b[0;34m=\u001b[0m \u001b[0mCatVTONPipeline\u001b[0m\u001b[0;34m(\u001b[0m\u001b[0mbase_ckpt_path\u001b[0m\u001b[0;34m,\u001b[0m\u001b[0mattn_ckpt_path\u001b[0m\u001b[0;34m)\u001b[0m\u001b[0;34m\u001b[0m\u001b[0;34m\u001b[0m\u001b[0m\n\u001b[0m",
            "\u001b[0;32m/content/CatVTON/model/pipeline.py\u001b[0m in \u001b[0;36m__init__\u001b[0;34m(self, base_ckpt, attn_ckpt, attn_ckpt_version, weight_dtype, device, compile, skip_safety_check, use_tf32)\u001b[0m\n\u001b[1;32m     37\u001b[0m         \u001b[0mself\u001b[0m\u001b[0;34m.\u001b[0m\u001b[0mskip_safety_check\u001b[0m \u001b[0;34m=\u001b[0m \u001b[0mskip_safety_check\u001b[0m\u001b[0;34m\u001b[0m\u001b[0;34m\u001b[0m\u001b[0m\n\u001b[1;32m     38\u001b[0m \u001b[0;34m\u001b[0m\u001b[0m\n\u001b[0;32m---> 39\u001b[0;31m         \u001b[0mself\u001b[0m\u001b[0;34m.\u001b[0m\u001b[0mnoise_scheduler\u001b[0m \u001b[0;34m=\u001b[0m \u001b[0mDDIMScheduler\u001b[0m\u001b[0;34m.\u001b[0m\u001b[0mfrom_pretrained\u001b[0m\u001b[0;34m(\u001b[0m\u001b[0mbase_ckpt\u001b[0m\u001b[0;34m,\u001b[0m \u001b[0msubfolder\u001b[0m\u001b[0;34m=\u001b[0m\u001b[0;34m\"scheduler\"\u001b[0m\u001b[0;34m)\u001b[0m\u001b[0;34m\u001b[0m\u001b[0;34m\u001b[0m\u001b[0m\n\u001b[0m\u001b[1;32m     40\u001b[0m         \u001b[0mself\u001b[0m\u001b[0;34m.\u001b[0m\u001b[0mvae\u001b[0m \u001b[0;34m=\u001b[0m \u001b[0mAutoencoderKL\u001b[0m\u001b[0;34m.\u001b[0m\u001b[0mfrom_pretrained\u001b[0m\u001b[0;34m(\u001b[0m\u001b[0;34m\"stabilityai/sd-vae-ft-mse\"\u001b[0m\u001b[0;34m)\u001b[0m\u001b[0;34m.\u001b[0m\u001b[0mto\u001b[0m\u001b[0;34m(\u001b[0m\u001b[0mdevice\u001b[0m\u001b[0;34m,\u001b[0m \u001b[0mdtype\u001b[0m\u001b[0;34m=\u001b[0m\u001b[0mweight_dtype\u001b[0m\u001b[0;34m)\u001b[0m\u001b[0;34m\u001b[0m\u001b[0;34m\u001b[0m\u001b[0m\n\u001b[1;32m     41\u001b[0m         \u001b[0;32mif\u001b[0m \u001b[0;32mnot\u001b[0m \u001b[0mskip_safety_check\u001b[0m\u001b[0;34m:\u001b[0m\u001b[0;34m\u001b[0m\u001b[0;34m\u001b[0m\u001b[0m\n",
            "\u001b[0;32m/usr/local/lib/python3.10/dist-packages/huggingface_hub/utils/_validators.py\u001b[0m in \u001b[0;36m_inner_fn\u001b[0;34m(*args, **kwargs)\u001b[0m\n\u001b[1;32m    112\u001b[0m             \u001b[0mkwargs\u001b[0m \u001b[0;34m=\u001b[0m \u001b[0msmoothly_deprecate_use_auth_token\u001b[0m\u001b[0;34m(\u001b[0m\u001b[0mfn_name\u001b[0m\u001b[0;34m=\u001b[0m\u001b[0mfn\u001b[0m\u001b[0;34m.\u001b[0m\u001b[0m__name__\u001b[0m\u001b[0;34m,\u001b[0m \u001b[0mhas_token\u001b[0m\u001b[0;34m=\u001b[0m\u001b[0mhas_token\u001b[0m\u001b[0;34m,\u001b[0m \u001b[0mkwargs\u001b[0m\u001b[0;34m=\u001b[0m\u001b[0mkwargs\u001b[0m\u001b[0;34m)\u001b[0m\u001b[0;34m\u001b[0m\u001b[0;34m\u001b[0m\u001b[0m\n\u001b[1;32m    113\u001b[0m \u001b[0;34m\u001b[0m\u001b[0m\n\u001b[0;32m--> 114\u001b[0;31m         \u001b[0;32mreturn\u001b[0m \u001b[0mfn\u001b[0m\u001b[0;34m(\u001b[0m\u001b[0;34m*\u001b[0m\u001b[0margs\u001b[0m\u001b[0;34m,\u001b[0m \u001b[0;34m**\u001b[0m\u001b[0mkwargs\u001b[0m\u001b[0;34m)\u001b[0m\u001b[0;34m\u001b[0m\u001b[0;34m\u001b[0m\u001b[0m\n\u001b[0m\u001b[1;32m    115\u001b[0m \u001b[0;34m\u001b[0m\u001b[0m\n\u001b[1;32m    116\u001b[0m     \u001b[0;32mreturn\u001b[0m \u001b[0m_inner_fn\u001b[0m  \u001b[0;31m# type: ignore\u001b[0m\u001b[0;34m\u001b[0m\u001b[0;34m\u001b[0m\u001b[0m\n",
            "\u001b[0;32m/usr/local/lib/python3.10/dist-packages/diffusers/schedulers/scheduling_utils.py\u001b[0m in \u001b[0;36mfrom_pretrained\u001b[0;34m(cls, pretrained_model_name_or_path, subfolder, return_unused_kwargs, **kwargs)\u001b[0m\n\u001b[1;32m    150\u001b[0m \u001b[0;34m\u001b[0m\u001b[0m\n\u001b[1;32m    151\u001b[0m         \"\"\"\n\u001b[0;32m--> 152\u001b[0;31m         config, kwargs, commit_hash = cls.load_config(\n\u001b[0m\u001b[1;32m    153\u001b[0m             \u001b[0mpretrained_model_name_or_path\u001b[0m\u001b[0;34m=\u001b[0m\u001b[0mpretrained_model_name_or_path\u001b[0m\u001b[0;34m,\u001b[0m\u001b[0;34m\u001b[0m\u001b[0;34m\u001b[0m\u001b[0m\n\u001b[1;32m    154\u001b[0m             \u001b[0msubfolder\u001b[0m\u001b[0;34m=\u001b[0m\u001b[0msubfolder\u001b[0m\u001b[0;34m,\u001b[0m\u001b[0;34m\u001b[0m\u001b[0;34m\u001b[0m\u001b[0m\n",
            "\u001b[0;32m/usr/local/lib/python3.10/dist-packages/huggingface_hub/utils/_validators.py\u001b[0m in \u001b[0;36m_inner_fn\u001b[0;34m(*args, **kwargs)\u001b[0m\n\u001b[1;32m    112\u001b[0m             \u001b[0mkwargs\u001b[0m \u001b[0;34m=\u001b[0m \u001b[0msmoothly_deprecate_use_auth_token\u001b[0m\u001b[0;34m(\u001b[0m\u001b[0mfn_name\u001b[0m\u001b[0;34m=\u001b[0m\u001b[0mfn\u001b[0m\u001b[0;34m.\u001b[0m\u001b[0m__name__\u001b[0m\u001b[0;34m,\u001b[0m \u001b[0mhas_token\u001b[0m\u001b[0;34m=\u001b[0m\u001b[0mhas_token\u001b[0m\u001b[0;34m,\u001b[0m \u001b[0mkwargs\u001b[0m\u001b[0;34m=\u001b[0m\u001b[0mkwargs\u001b[0m\u001b[0;34m)\u001b[0m\u001b[0;34m\u001b[0m\u001b[0;34m\u001b[0m\u001b[0m\n\u001b[1;32m    113\u001b[0m \u001b[0;34m\u001b[0m\u001b[0m\n\u001b[0;32m--> 114\u001b[0;31m         \u001b[0;32mreturn\u001b[0m \u001b[0mfn\u001b[0m\u001b[0;34m(\u001b[0m\u001b[0;34m*\u001b[0m\u001b[0margs\u001b[0m\u001b[0;34m,\u001b[0m \u001b[0;34m**\u001b[0m\u001b[0mkwargs\u001b[0m\u001b[0;34m)\u001b[0m\u001b[0;34m\u001b[0m\u001b[0;34m\u001b[0m\u001b[0m\n\u001b[0m\u001b[1;32m    115\u001b[0m \u001b[0;34m\u001b[0m\u001b[0m\n\u001b[1;32m    116\u001b[0m     \u001b[0;32mreturn\u001b[0m \u001b[0m_inner_fn\u001b[0m  \u001b[0;31m# type: ignore\u001b[0m\u001b[0;34m\u001b[0m\u001b[0;34m\u001b[0m\u001b[0m\n",
            "\u001b[0;32m/usr/local/lib/python3.10/dist-packages/diffusers/configuration_utils.py\u001b[0m in \u001b[0;36mload_config\u001b[0;34m(cls, pretrained_model_name_or_path, return_unused_kwargs, return_commit_hash, **kwargs)\u001b[0m\n\u001b[1;32m    418\u001b[0m                 )\n\u001b[1;32m    419\u001b[0m             \u001b[0;32mexcept\u001b[0m \u001b[0mValueError\u001b[0m\u001b[0;34m:\u001b[0m\u001b[0;34m\u001b[0m\u001b[0;34m\u001b[0m\u001b[0m\n\u001b[0;32m--> 420\u001b[0;31m                 raise EnvironmentError(\n\u001b[0m\u001b[1;32m    421\u001b[0m                     \u001b[0;34mf\"We couldn't connect to '{HUGGINGFACE_CO_RESOLVE_ENDPOINT}' to load this model, couldn't find it\"\u001b[0m\u001b[0;34m\u001b[0m\u001b[0;34m\u001b[0m\u001b[0m\n\u001b[1;32m    422\u001b[0m                     \u001b[0;34mf\" in the cached files and it looks like {pretrained_model_name_or_path} is not the path to a\"\u001b[0m\u001b[0;34m\u001b[0m\u001b[0;34m\u001b[0m\u001b[0m\n",
            "\u001b[0;31mOSError\u001b[0m: We couldn't connect to 'https://huggingface.co' to load this model, couldn't find it in the cached files and it looks like /content/CatVTON/detectron2/base_model.pth is not the path to a directory containing a scheduler_config.json file.\nCheckout your internet connection or see how to run the library in offline mode at 'https://huggingface.co/docs/diffusers/installation#offline-mode'."
          ]
        }
      ]
    },
    {
      "cell_type": "code",
      "source": [
        "person_image = torch.randn(1, 3, 256, 192)\n",
        "cloth_image = torch.randn(1, 3, 256, 192)"
      ],
      "metadata": {
        "id": "WoiyeEgD4jrF"
      },
      "execution_count": 67,
      "outputs": []
    },
    {
      "cell_type": "code",
      "source": [
        "\n",
        "output = pipeline.run_inference(person_image, cloth_image)"
      ],
      "metadata": {
        "colab": {
          "base_uri": "https://localhost:8080/",
          "height": 141
        },
        "id": "aaSeHPKM4wDA",
        "outputId": "11c843ab-e8fd-405c-cdfa-125f3590df15"
      },
      "execution_count": 68,
      "outputs": [
        {
          "output_type": "error",
          "ename": "NameError",
          "evalue": "name 'pipeline' is not defined",
          "traceback": [
            "\u001b[0;31m---------------------------------------------------------------------------\u001b[0m",
            "\u001b[0;31mNameError\u001b[0m                                 Traceback (most recent call last)",
            "\u001b[0;32m<ipython-input-68-16c93d51eda4>\u001b[0m in \u001b[0;36m<cell line: 1>\u001b[0;34m()\u001b[0m\n\u001b[0;32m----> 1\u001b[0;31m \u001b[0moutput\u001b[0m \u001b[0;34m=\u001b[0m \u001b[0mpipeline\u001b[0m\u001b[0;34m.\u001b[0m\u001b[0mrun_inference\u001b[0m\u001b[0;34m(\u001b[0m\u001b[0mperson_image\u001b[0m\u001b[0;34m,\u001b[0m \u001b[0mcloth_image\u001b[0m\u001b[0;34m)\u001b[0m\u001b[0;34m\u001b[0m\u001b[0;34m\u001b[0m\u001b[0m\n\u001b[0m",
            "\u001b[0;31mNameError\u001b[0m: name 'pipeline' is not defined"
          ]
        }
      ]
    },
    {
      "cell_type": "code",
      "source": [
        "with torch.no_grad():\n",
        "    output = pipeline(model_input, clothing_input)\n",
        "\n",
        "# Convert output tensor to image\n",
        "output_image = transforms.ToPILImage()(output.squeeze(0))\n",
        "output_image.save(\"output.jpg\")"
      ],
      "metadata": {
        "colab": {
          "base_uri": "https://localhost:8080/",
          "height": 211
        },
        "id": "5_XhLL8A4x6G",
        "outputId": "786ed208-2b11-4046-b7c4-4aebb27fcc85"
      },
      "execution_count": 69,
      "outputs": [
        {
          "output_type": "error",
          "ename": "NameError",
          "evalue": "name 'pipeline' is not defined",
          "traceback": [
            "\u001b[0;31m---------------------------------------------------------------------------\u001b[0m",
            "\u001b[0;31mNameError\u001b[0m                                 Traceback (most recent call last)",
            "\u001b[0;32m<ipython-input-69-3a56b08f0387>\u001b[0m in \u001b[0;36m<cell line: 1>\u001b[0;34m()\u001b[0m\n\u001b[1;32m      1\u001b[0m \u001b[0;32mwith\u001b[0m \u001b[0mtorch\u001b[0m\u001b[0;34m.\u001b[0m\u001b[0mno_grad\u001b[0m\u001b[0;34m(\u001b[0m\u001b[0;34m)\u001b[0m\u001b[0;34m:\u001b[0m\u001b[0;34m\u001b[0m\u001b[0;34m\u001b[0m\u001b[0m\n\u001b[0;32m----> 2\u001b[0;31m     \u001b[0moutput\u001b[0m \u001b[0;34m=\u001b[0m \u001b[0mpipeline\u001b[0m\u001b[0;34m(\u001b[0m\u001b[0mmodel_input\u001b[0m\u001b[0;34m,\u001b[0m \u001b[0mclothing_input\u001b[0m\u001b[0;34m)\u001b[0m\u001b[0;34m\u001b[0m\u001b[0;34m\u001b[0m\u001b[0m\n\u001b[0m\u001b[1;32m      3\u001b[0m \u001b[0;34m\u001b[0m\u001b[0m\n\u001b[1;32m      4\u001b[0m \u001b[0;31m# Convert output tensor to image\u001b[0m\u001b[0;34m\u001b[0m\u001b[0;34m\u001b[0m\u001b[0m\n\u001b[1;32m      5\u001b[0m \u001b[0moutput_image\u001b[0m \u001b[0;34m=\u001b[0m \u001b[0mtransforms\u001b[0m\u001b[0;34m.\u001b[0m\u001b[0mToPILImage\u001b[0m\u001b[0;34m(\u001b[0m\u001b[0;34m)\u001b[0m\u001b[0;34m(\u001b[0m\u001b[0moutput\u001b[0m\u001b[0;34m.\u001b[0m\u001b[0msqueeze\u001b[0m\u001b[0;34m(\u001b[0m\u001b[0;36m0\u001b[0m\u001b[0;34m)\u001b[0m\u001b[0;34m)\u001b[0m\u001b[0;34m\u001b[0m\u001b[0;34m\u001b[0m\u001b[0m\n",
            "\u001b[0;31mNameError\u001b[0m: name 'pipeline' is not defined"
          ]
        }
      ]
    },
    {
      "cell_type": "code",
      "source": [
        "#Display Result\n",
        "\n",
        "import matplotlib.pyplot as plt"
      ],
      "metadata": {
        "id": "9diKT3gf48yA"
      },
      "execution_count": 70,
      "outputs": []
    },
    {
      "cell_type": "code",
      "source": [
        "# Display Input and Output Images\n",
        "plt.figure(figsize=(12, 6))\n",
        "\n"
      ],
      "metadata": {
        "colab": {
          "base_uri": "https://localhost:8080/"
        },
        "id": "XwaCS7jl5CHZ",
        "outputId": "77a86d8f-ac7c-4ed4-afef-5a423c2ab772"
      },
      "execution_count": 71,
      "outputs": [
        {
          "output_type": "execute_result",
          "data": {
            "text/plain": [
              "<Figure size 1200x600 with 0 Axes>"
            ]
          },
          "metadata": {},
          "execution_count": 71
        }
      ]
    },
    {
      "cell_type": "code",
      "source": [
        "# Model image\n",
        "plt.subplot(1, 3, 1)\n",
        "plt.title(\"Model Image\")\n",
        "plt.imshow(model_image)\n",
        "plt.axis('off')\n",
        "\n",
        "# Clothing image\n",
        "plt.subplot(1, 3, 2)\n",
        "plt.title(\"Clothing Image\")\n",
        "plt.imshow(clothing_image)\n",
        "plt.axis('off')"
      ],
      "metadata": {
        "colab": {
          "base_uri": "https://localhost:8080/"
        },
        "id": "I7VII6-W5Ejf",
        "outputId": "b159d653-0c80-4e4b-8f77-c30c188fc64f"
      },
      "execution_count": 72,
      "outputs": [
        {
          "output_type": "execute_result",
          "data": {
            "text/plain": [
              "(-0.5, 767.5, 1023.5, -0.5)"
            ]
          },
          "metadata": {},
          "execution_count": 72
        }
      ]
    },
    {
      "cell_type": "code",
      "source": [
        "# Try-on output\n",
        "plt.subplot(1, 3, 3)\n",
        "plt.title(\"Try-On Output\")\n",
        "plt.imshow(output_image)\n",
        "plt.axis('off')\n",
        "\n",
        "plt.show()"
      ],
      "metadata": {
        "colab": {
          "base_uri": "https://localhost:8080/",
          "height": 211
        },
        "id": "vCf1ivQG5G01",
        "outputId": "2231cac7-1155-40db-c4a0-8706fc4a542f"
      },
      "execution_count": 73,
      "outputs": [
        {
          "output_type": "error",
          "ename": "NameError",
          "evalue": "name 'output_image' is not defined",
          "traceback": [
            "\u001b[0;31m---------------------------------------------------------------------------\u001b[0m",
            "\u001b[0;31mNameError\u001b[0m                                 Traceback (most recent call last)",
            "\u001b[0;32m<ipython-input-73-23aa0119f60d>\u001b[0m in \u001b[0;36m<cell line: 4>\u001b[0;34m()\u001b[0m\n\u001b[1;32m      2\u001b[0m \u001b[0mplt\u001b[0m\u001b[0;34m.\u001b[0m\u001b[0msubplot\u001b[0m\u001b[0;34m(\u001b[0m\u001b[0;36m1\u001b[0m\u001b[0;34m,\u001b[0m \u001b[0;36m3\u001b[0m\u001b[0;34m,\u001b[0m \u001b[0;36m3\u001b[0m\u001b[0;34m)\u001b[0m\u001b[0;34m\u001b[0m\u001b[0;34m\u001b[0m\u001b[0m\n\u001b[1;32m      3\u001b[0m \u001b[0mplt\u001b[0m\u001b[0;34m.\u001b[0m\u001b[0mtitle\u001b[0m\u001b[0;34m(\u001b[0m\u001b[0;34m\"Try-On Output\"\u001b[0m\u001b[0;34m)\u001b[0m\u001b[0;34m\u001b[0m\u001b[0;34m\u001b[0m\u001b[0m\n\u001b[0;32m----> 4\u001b[0;31m \u001b[0mplt\u001b[0m\u001b[0;34m.\u001b[0m\u001b[0mimshow\u001b[0m\u001b[0;34m(\u001b[0m\u001b[0moutput_image\u001b[0m\u001b[0;34m)\u001b[0m\u001b[0;34m\u001b[0m\u001b[0;34m\u001b[0m\u001b[0m\n\u001b[0m\u001b[1;32m      5\u001b[0m \u001b[0mplt\u001b[0m\u001b[0;34m.\u001b[0m\u001b[0maxis\u001b[0m\u001b[0;34m(\u001b[0m\u001b[0;34m'off'\u001b[0m\u001b[0;34m)\u001b[0m\u001b[0;34m\u001b[0m\u001b[0;34m\u001b[0m\u001b[0m\n\u001b[1;32m      6\u001b[0m \u001b[0;34m\u001b[0m\u001b[0m\n",
            "\u001b[0;31mNameError\u001b[0m: name 'output_image' is not defined"
          ]
        }
      ]
    },
    {
      "cell_type": "code",
      "source": [
        "from google.colab import files\n",
        "\n",
        "# Download the generated output image\n",
        "files.download(\"output.jpg\")"
      ],
      "metadata": {
        "colab": {
          "base_uri": "https://localhost:8080/",
          "height": 297
        },
        "id": "KJmbEQsW5INt",
        "outputId": "a97e4781-5a24-4d33-cde5-5a93c342282b"
      },
      "execution_count": 74,
      "outputs": [
        {
          "output_type": "error",
          "ename": "FileNotFoundError",
          "evalue": "Cannot find file: output.jpg",
          "traceback": [
            "\u001b[0;31m---------------------------------------------------------------------------\u001b[0m",
            "\u001b[0;31mFileNotFoundError\u001b[0m                         Traceback (most recent call last)",
            "\u001b[0;32m<ipython-input-74-cdea2636ed1f>\u001b[0m in \u001b[0;36m<cell line: 4>\u001b[0;34m()\u001b[0m\n\u001b[1;32m      2\u001b[0m \u001b[0;34m\u001b[0m\u001b[0m\n\u001b[1;32m      3\u001b[0m \u001b[0;31m# Download the generated output image\u001b[0m\u001b[0;34m\u001b[0m\u001b[0;34m\u001b[0m\u001b[0m\n\u001b[0;32m----> 4\u001b[0;31m \u001b[0mfiles\u001b[0m\u001b[0;34m.\u001b[0m\u001b[0mdownload\u001b[0m\u001b[0;34m(\u001b[0m\u001b[0;34m\"output.jpg\"\u001b[0m\u001b[0;34m)\u001b[0m\u001b[0;34m\u001b[0m\u001b[0;34m\u001b[0m\u001b[0m\n\u001b[0m",
            "\u001b[0;32m/usr/local/lib/python3.10/dist-packages/google/colab/files.py\u001b[0m in \u001b[0;36mdownload\u001b[0;34m(filename)\u001b[0m\n\u001b[1;32m    231\u001b[0m   \u001b[0;32mif\u001b[0m \u001b[0;32mnot\u001b[0m \u001b[0m_os\u001b[0m\u001b[0;34m.\u001b[0m\u001b[0mpath\u001b[0m\u001b[0;34m.\u001b[0m\u001b[0mexists\u001b[0m\u001b[0;34m(\u001b[0m\u001b[0mfilename\u001b[0m\u001b[0;34m)\u001b[0m\u001b[0;34m:\u001b[0m\u001b[0;34m\u001b[0m\u001b[0;34m\u001b[0m\u001b[0m\n\u001b[1;32m    232\u001b[0m     \u001b[0mmsg\u001b[0m \u001b[0;34m=\u001b[0m \u001b[0;34m'Cannot find file: {}'\u001b[0m\u001b[0;34m.\u001b[0m\u001b[0mformat\u001b[0m\u001b[0;34m(\u001b[0m\u001b[0mfilename\u001b[0m\u001b[0;34m)\u001b[0m\u001b[0;34m\u001b[0m\u001b[0;34m\u001b[0m\u001b[0m\n\u001b[0;32m--> 233\u001b[0;31m     \u001b[0;32mraise\u001b[0m \u001b[0mFileNotFoundError\u001b[0m\u001b[0;34m(\u001b[0m\u001b[0mmsg\u001b[0m\u001b[0;34m)\u001b[0m  \u001b[0;31m# pylint: disable=undefined-variable\u001b[0m\u001b[0;34m\u001b[0m\u001b[0;34m\u001b[0m\u001b[0m\n\u001b[0m\u001b[1;32m    234\u001b[0m \u001b[0;34m\u001b[0m\u001b[0m\n\u001b[1;32m    235\u001b[0m   \u001b[0mcomm_manager\u001b[0m \u001b[0;34m=\u001b[0m \u001b[0m_IPython\u001b[0m\u001b[0;34m.\u001b[0m\u001b[0mget_ipython\u001b[0m\u001b[0;34m(\u001b[0m\u001b[0;34m)\u001b[0m\u001b[0;34m.\u001b[0m\u001b[0mkernel\u001b[0m\u001b[0;34m.\u001b[0m\u001b[0mcomm_manager\u001b[0m\u001b[0;34m\u001b[0m\u001b[0;34m\u001b[0m\u001b[0m\n",
            "\u001b[0;31mFileNotFoundError\u001b[0m: Cannot find file: output.jpg"
          ]
        }
      ]
    },
    {
      "cell_type": "code",
      "source": [],
      "metadata": {
        "id": "WZRDDwG65KKh"
      },
      "execution_count": null,
      "outputs": []
    }
  ]
}