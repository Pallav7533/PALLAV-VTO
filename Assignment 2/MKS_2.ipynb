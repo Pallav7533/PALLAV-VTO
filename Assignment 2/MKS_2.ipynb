{
  "cells": [
    {
      "cell_type": "code",
      "execution_count": 1,
      "metadata": {
        "colab": {
          "base_uri": "https://localhost:8080/"
        },
        "id": "knx8bZ4DRgfu",
        "outputId": "eaae8b0d-1d61-468e-9678-d37e693df9ac"
      },
      "outputs": [
        {
          "name": "stdout",
          "output_type": "stream",
          "text": [
            "Path to dataset files: D:\\Pallav-Task_MKS_Digitech_LLP\\Assignment 2\n"
          ]
        }
      ],
      "source": [
        "import kagglehub\n",
        "\n",
        "# Download latest version\n",
        "path = kagglehub.dataset_download(\"retailrocket/ecommerce-dataset\")\n",
        "\n",
        "print(\"Path to dataset files:\", \"D:\\\\Pallav-Task_MKS_Digitech_LLP\\\\Assignment 2\")\n"
      ]
    },
    {
      "cell_type": "code",
      "execution_count": 2,
      "metadata": {
        "colab": {
          "base_uri": "https://localhost:8080/"
        },
        "id": "_hnyKm4hRkXc",
        "outputId": "988bfc90-3b06-4ce0-babc-46e070d1d0fc"
      },
      "outputs": [
        {
          "name": "stdout",
          "output_type": "stream",
          "text": [
            "Dataset URL: https://www.kaggle.com/datasets/retailrocket/ecommerce-dataset\n",
            "License(s): CC-BY-NC-SA-4.0\n",
            "ecommerce-dataset.zip: Skipping, found more recently modified local copy (use --force to force download)\n"
          ]
        }
      ],
      "source": [
        "!kaggle datasets download -d retailrocket/ecommerce-dataset\n"
      ]
    },
    {
      "cell_type": "code",
      "execution_count": 3,
      "metadata": {
        "colab": {
          "base_uri": "https://localhost:8080/"
        },
        "id": "hxSwLwGsTLjD",
        "outputId": "83ce7bbd-a78e-4b5c-cfb0-095865599d3c"
      },
      "outputs": [
        {
          "data": {
            "text/plain": [
              "['category_tree.csv',\n",
              " 'events.csv',\n",
              " 'item_properties_part1.csv',\n",
              " 'item_properties_part2.csv']"
            ]
          },
          "execution_count": 3,
          "metadata": {},
          "output_type": "execute_result"
        }
      ],
      "source": [
        "import zipfile\n",
        "import os\n",
        "\n",
        "# Replace \"ecommerce-dataset.zip\" with the actual name of the downloaded zip file\n",
        "with zipfile.ZipFile(\"ecommerce-dataset.zip\", 'r') as zip_ref:\n",
        "    zip_ref.extractall(\"/content/ecommerce-dataset\")\n",
        "\n",
        "# List the files in the extracted directory\n",
        "os.listdir(\"/content/ecommerce-dataset\")\n"
      ]
    },
    {
      "cell_type": "code",
      "execution_count": 4,
      "metadata": {
        "id": "V3yxQrO1TRqB"
      },
      "outputs": [],
      "source": [
        "import pandas as pd"
      ]
    },
    {
      "cell_type": "code",
      "execution_count": 5,
      "metadata": {
        "colab": {
          "base_uri": "https://localhost:8080/"
        },
        "id": "7yGOtttFUAaT",
        "outputId": "c47a08e0-3163-481e-ccf5-c9d5e18113a7"
      },
      "outputs": [
        {
          "name": "stdout",
          "output_type": "stream",
          "text": [
            "Collecting cudf\n",
            "  Using cached cudf-0.6.1.post1.tar.gz (1.1 kB)\n",
            "  Preparing metadata (setup.py) ... \u001b[?25l\u001b[?25hdone\n",
            "Building wheels for collected packages: cudf\n",
            "  \u001b[1;31merror\u001b[0m: \u001b[1msubprocess-exited-with-error\u001b[0m\n",
            "  \n",
            "  \u001b[31m×\u001b[0m \u001b[32mpython setup.py bdist_wheel\u001b[0m did not run successfully.\n",
            "  \u001b[31m│\u001b[0m exit code: \u001b[1;36m1\u001b[0m\n",
            "  \u001b[31m╰─>\u001b[0m See above for output.\n",
            "  \n",
            "  \u001b[1;35mnote\u001b[0m: This error originates from a subprocess, and is likely not a problem with pip.\n",
            "  Building wheel for cudf (setup.py) ... \u001b[?25lerror\n",
            "\u001b[31m  ERROR: Failed building wheel for cudf\u001b[0m\u001b[31m\n",
            "\u001b[0m\u001b[?25h  Running setup.py clean for cudf\n",
            "Failed to build cudf\n",
            "\u001b[31mERROR: ERROR: Failed to build installable wheels for some pyproject.toml based projects (cudf)\u001b[0m\u001b[31m\n",
            "\u001b[0m"
          ]
        }
      ],
      "source": [
        "!pip install cudf\n"
      ]
    },
    {
      "cell_type": "code",
      "execution_count": 6,
      "metadata": {
        "colab": {
          "base_uri": "https://localhost:8080/"
        },
        "id": "GHPKY2kYVRg6",
        "outputId": "7ecb0174-30ad-481a-d262-cf1b6ba24c81"
      },
      "outputs": [
        {
          "name": "stdout",
          "output_type": "stream",
          "text": [
            "Collecting cudf\n",
            "  Using cached cudf-0.6.1.post1.tar.gz (1.1 kB)\n",
            "  Preparing metadata (setup.py) ... \u001b[?25l\u001b[?25hdone\n",
            "Building wheels for collected packages: cudf\n",
            "  \u001b[1;31merror\u001b[0m: \u001b[1msubprocess-exited-with-error\u001b[0m\n",
            "  \n",
            "  \u001b[31m×\u001b[0m \u001b[32mpython setup.py bdist_wheel\u001b[0m did not run successfully.\n",
            "  \u001b[31m│\u001b[0m exit code: \u001b[1;36m1\u001b[0m\n",
            "  \u001b[31m╰─>\u001b[0m See above for output.\n",
            "  \n",
            "  \u001b[1;35mnote\u001b[0m: This error originates from a subprocess, and is likely not a problem with pip.\n",
            "  Building wheel for cudf (setup.py) ... \u001b[?25lerror\n",
            "\u001b[31m  ERROR: Failed building wheel for cudf\u001b[0m\u001b[31m\n",
            "\u001b[0m\u001b[?25h  Running setup.py clean for cudf\n",
            "Failed to build cudf\n",
            "\u001b[31mERROR: ERROR: Failed to build installable wheels for some pyproject.toml based projects (cudf)\u001b[0m\u001b[31m\n",
            "\u001b[0m"
          ]
        }
      ],
      "source": [
        "pip install cudf\n"
      ]
    },
    {
      "cell_type": "code",
      "execution_count": 7,
      "metadata": {
        "colab": {
          "base_uri": "https://localhost:8080/"
        },
        "id": "_DzTw5x7VUAr",
        "outputId": "97a1b623-1288-4e10-cbce-837b62e884eb"
      },
      "outputs": [
        {
          "name": "stdout",
          "output_type": "stream",
          "text": [
            "Looking in indexes: https://pypi.org/simple, https://pypi.ngc.nvidia.com\n",
            "Requirement already satisfied: cudf-cu11 in /usr/local/lib/python3.10/dist-packages (24.8.3)\n",
            "Requirement already satisfied: dask-cudf-cu11 in /usr/local/lib/python3.10/dist-packages (24.8.3)\n",
            "Requirement already satisfied: cachetools in /usr/local/lib/python3.10/dist-packages (from cudf-cu11) (5.5.0)\n",
            "Requirement already satisfied: cubinlinker-cu11 in /usr/local/lib/python3.10/dist-packages (from cudf-cu11) (0.3.0.post2)\n",
            "Requirement already satisfied: cuda-python<12.0a0,>=11.7.1 in /usr/local/lib/python3.10/dist-packages (from cudf-cu11) (11.8.5)\n",
            "Requirement already satisfied: cupy-cuda11x>=12.0.0 in /usr/local/lib/python3.10/dist-packages (from cudf-cu11) (13.3.0)\n",
            "Requirement already satisfied: fsspec>=0.6.0 in /usr/local/lib/python3.10/dist-packages (from cudf-cu11) (2024.10.0)\n",
            "Requirement already satisfied: numba>=0.57 in /usr/local/lib/python3.10/dist-packages (from cudf-cu11) (0.60.0)\n",
            "Requirement already satisfied: numpy<2.0a0,>=1.23 in /usr/local/lib/python3.10/dist-packages (from cudf-cu11) (1.26.4)\n",
            "Requirement already satisfied: nvtx>=0.2.1 in /usr/local/lib/python3.10/dist-packages (from cudf-cu11) (0.2.10)\n",
            "Requirement already satisfied: packaging in /usr/local/lib/python3.10/dist-packages (from cudf-cu11) (24.1)\n",
            "Requirement already satisfied: pandas<2.2.3dev0,>=2.0 in /usr/local/lib/python3.10/dist-packages (from cudf-cu11) (2.2.2)\n",
            "Requirement already satisfied: ptxcompiler-cu11 in /usr/local/lib/python3.10/dist-packages (from cudf-cu11) (0.8.1.post2)\n",
            "Requirement already satisfied: pyarrow<16.2.0a0,>=16.1.0 in /usr/local/lib/python3.10/dist-packages (from cudf-cu11) (16.1.0)\n",
            "Requirement already satisfied: rich in /usr/local/lib/python3.10/dist-packages (from cudf-cu11) (13.9.3)\n",
            "Requirement already satisfied: rmm-cu11==24.8.* in /usr/local/lib/python3.10/dist-packages (from cudf-cu11) (24.8.2)\n",
            "Requirement already satisfied: typing_extensions>=4.0.0 in /usr/local/lib/python3.10/dist-packages (from cudf-cu11) (4.12.2)\n",
            "Requirement already satisfied: rapids-dask-dependency==24.8.* in /usr/local/lib/python3.10/dist-packages (from dask-cudf-cu11) (24.8.0)\n",
            "Requirement already satisfied: dask==2024.7.1 in /usr/local/lib/python3.10/dist-packages (from rapids-dask-dependency==24.8.*->dask-cudf-cu11) (2024.7.1)\n",
            "Requirement already satisfied: distributed==2024.7.1 in /usr/local/lib/python3.10/dist-packages (from rapids-dask-dependency==24.8.*->dask-cudf-cu11) (2024.7.1)\n",
            "Requirement already satisfied: dask-expr in /usr/local/lib/python3.10/dist-packages (from rapids-dask-dependency==24.8.*->dask-cudf-cu11) (1.1.9)\n",
            "Requirement already satisfied: click>=8.1 in /usr/local/lib/python3.10/dist-packages (from dask==2024.7.1->rapids-dask-dependency==24.8.*->dask-cudf-cu11) (8.1.7)\n",
            "Requirement already satisfied: cloudpickle>=1.5.0 in /usr/local/lib/python3.10/dist-packages (from dask==2024.7.1->rapids-dask-dependency==24.8.*->dask-cudf-cu11) (3.1.0)\n",
            "Requirement already satisfied: partd>=1.4.0 in /usr/local/lib/python3.10/dist-packages (from dask==2024.7.1->rapids-dask-dependency==24.8.*->dask-cudf-cu11) (1.4.2)\n",
            "Requirement already satisfied: pyyaml>=5.3.1 in /usr/local/lib/python3.10/dist-packages (from dask==2024.7.1->rapids-dask-dependency==24.8.*->dask-cudf-cu11) (6.0.2)\n",
            "Requirement already satisfied: toolz>=0.10.0 in /usr/local/lib/python3.10/dist-packages (from dask==2024.7.1->rapids-dask-dependency==24.8.*->dask-cudf-cu11) (0.12.1)\n",
            "Requirement already satisfied: importlib-metadata>=4.13.0 in /usr/local/lib/python3.10/dist-packages (from dask==2024.7.1->rapids-dask-dependency==24.8.*->dask-cudf-cu11) (8.5.0)\n",
            "Requirement already satisfied: jinja2>=2.10.3 in /usr/local/lib/python3.10/dist-packages (from distributed==2024.7.1->rapids-dask-dependency==24.8.*->dask-cudf-cu11) (3.1.4)\n",
            "Requirement already satisfied: locket>=1.0.0 in /usr/local/lib/python3.10/dist-packages (from distributed==2024.7.1->rapids-dask-dependency==24.8.*->dask-cudf-cu11) (1.0.0)\n",
            "Requirement already satisfied: msgpack>=1.0.0 in /usr/local/lib/python3.10/dist-packages (from distributed==2024.7.1->rapids-dask-dependency==24.8.*->dask-cudf-cu11) (1.1.0)\n",
            "Requirement already satisfied: psutil>=5.7.2 in /usr/local/lib/python3.10/dist-packages (from distributed==2024.7.1->rapids-dask-dependency==24.8.*->dask-cudf-cu11) (5.9.5)\n",
            "Requirement already satisfied: sortedcontainers>=2.0.5 in /usr/local/lib/python3.10/dist-packages (from distributed==2024.7.1->rapids-dask-dependency==24.8.*->dask-cudf-cu11) (2.4.0)\n",
            "Requirement already satisfied: tblib>=1.6.0 in /usr/local/lib/python3.10/dist-packages (from distributed==2024.7.1->rapids-dask-dependency==24.8.*->dask-cudf-cu11) (3.0.0)\n",
            "Requirement already satisfied: tornado>=6.0.4 in /usr/local/lib/python3.10/dist-packages (from distributed==2024.7.1->rapids-dask-dependency==24.8.*->dask-cudf-cu11) (6.3.3)\n",
            "Requirement already satisfied: urllib3>=1.24.3 in /usr/local/lib/python3.10/dist-packages (from distributed==2024.7.1->rapids-dask-dependency==24.8.*->dask-cudf-cu11) (2.2.3)\n",
            "Requirement already satisfied: zict>=3.0.0 in /usr/local/lib/python3.10/dist-packages (from distributed==2024.7.1->rapids-dask-dependency==24.8.*->dask-cudf-cu11) (3.0.0)\n",
            "Requirement already satisfied: fastrlock>=0.5 in /usr/local/lib/python3.10/dist-packages (from cupy-cuda11x>=12.0.0->cudf-cu11) (0.8.2)\n",
            "Requirement already satisfied: llvmlite<0.44,>=0.43.0dev0 in /usr/local/lib/python3.10/dist-packages (from numba>=0.57->cudf-cu11) (0.43.0)\n",
            "Requirement already satisfied: python-dateutil>=2.8.2 in /usr/local/lib/python3.10/dist-packages (from pandas<2.2.3dev0,>=2.0->cudf-cu11) (2.8.2)\n",
            "Requirement already satisfied: pytz>=2020.1 in /usr/local/lib/python3.10/dist-packages (from pandas<2.2.3dev0,>=2.0->cudf-cu11) (2024.2)\n",
            "Requirement already satisfied: tzdata>=2022.7 in /usr/local/lib/python3.10/dist-packages (from pandas<2.2.3dev0,>=2.0->cudf-cu11) (2024.2)\n",
            "Requirement already satisfied: markdown-it-py>=2.2.0 in /usr/local/lib/python3.10/dist-packages (from rich->cudf-cu11) (3.0.0)\n",
            "Requirement already satisfied: pygments<3.0.0,>=2.13.0 in /usr/local/lib/python3.10/dist-packages (from rich->cudf-cu11) (2.18.0)\n",
            "Requirement already satisfied: mdurl~=0.1 in /usr/local/lib/python3.10/dist-packages (from markdown-it-py>=2.2.0->rich->cudf-cu11) (0.1.2)\n",
            "Requirement already satisfied: six>=1.5 in /usr/local/lib/python3.10/dist-packages (from python-dateutil>=2.8.2->pandas<2.2.3dev0,>=2.0->cudf-cu11) (1.16.0)\n",
            "Requirement already satisfied: zipp>=3.20 in /usr/local/lib/python3.10/dist-packages (from importlib-metadata>=4.13.0->dask==2024.7.1->rapids-dask-dependency==24.8.*->dask-cudf-cu11) (3.20.2)\n",
            "Requirement already satisfied: MarkupSafe>=2.0 in /usr/local/lib/python3.10/dist-packages (from jinja2>=2.10.3->distributed==2024.7.1->rapids-dask-dependency==24.8.*->dask-cudf-cu11) (3.0.2)\n"
          ]
        }
      ],
      "source": [
        "!pip install cudf-cu11 dask-cudf-cu11 --extra-index-url=https://pypi.ngc.nvidia.com\n"
      ]
    },
    {
      "cell_type": "code",
      "execution_count": 8,
      "metadata": {
        "colab": {
          "base_uri": "https://localhost:8080/"
        },
        "id": "45SKeuTSsB6H",
        "outputId": "14ca58c1-fd4b-476a-aeac-5236e2ff60e6"
      },
      "outputs": [
        {
          "name": "stderr",
          "output_type": "stream",
          "text": [
            "/usr/local/lib/python3.10/dist-packages/dask/array/chunk_types.py:110: UserWarning: \n",
            "--------------------------------------------------------------------------------\n",
            "\n",
            "  CuPy may not function correctly because multiple CuPy packages are installed\n",
            "  in your environment:\n",
            "\n",
            "    cupy-cuda11x, cupy-cuda12x\n",
            "\n",
            "  Follow these steps to resolve this issue:\n",
            "\n",
            "    1. For all packages listed above, run the following command to remove all\n",
            "       existing CuPy installations:\n",
            "\n",
            "         $ pip uninstall <package_name>\n",
            "\n",
            "      If you previously installed CuPy via conda, also run the following:\n",
            "\n",
            "         $ conda uninstall cupy\n",
            "\n",
            "    2. Install the appropriate CuPy package.\n",
            "       Refer to the Installation Guide for detailed instructions.\n",
            "\n",
            "         https://docs.cupy.dev/en/stable/install.html\n",
            "\n",
            "--------------------------------------------------------------------------------\n",
            "\n",
            "  import cupy\n"
          ]
        }
      ],
      "source": [
        "import dask.dataframe as dd\n",
        "\n",
        "# Load datasets\n",
        "events = dd.read_csv('/content/ecommerce-dataset/events.csv')\n",
        "item_properties = dd.read_csv('/content/ecommerce-dataset/item_properties_part1.csv')\n",
        "category_tree = dd.read_csv('/content/ecommerce-dataset/category_tree.csv')"
      ]
    },
    {
      "cell_type": "code",
      "execution_count": 9,
      "metadata": {
        "colab": {
          "base_uri": "https://localhost:8080/"
        },
        "id": "u0h8iLQbYYNc",
        "outputId": "47d97cbd-141c-4e21-d2d1-6395c25ebd77"
      },
      "outputs": [
        {
          "data": {
            "text/plain": [
              "Index(['timestamp', 'visitorid', 'event', 'itemid', 'transactionid'], dtype='object')"
            ]
          },
          "execution_count": 9,
          "metadata": {},
          "output_type": "execute_result"
        }
      ],
      "source": [
        "events.columns"
      ]
    },
    {
      "cell_type": "code",
      "execution_count": 10,
      "metadata": {
        "colab": {
          "base_uri": "https://localhost:8080/"
        },
        "id": "Uxzol-g7bAx2",
        "outputId": "eb7fa823-bf75-4030-d81a-3189a97e45e9"
      },
      "outputs": [
        {
          "data": {
            "text/plain": [
              "Index(['timestamp', 'itemid', 'property', 'value'], dtype='object')"
            ]
          },
          "execution_count": 10,
          "metadata": {},
          "output_type": "execute_result"
        }
      ],
      "source": [
        "item_properties.columns"
      ]
    },
    {
      "cell_type": "code",
      "execution_count": 11,
      "metadata": {
        "colab": {
          "base_uri": "https://localhost:8080/",
          "height": 206
        },
        "id": "lmLlr8XRbJZJ",
        "outputId": "eee2625a-6ec6-4342-dade-06138918d2a7"
      },
      "outputs": [
        {
          "data": {
            "application/vnd.google.colaboratory.intrinsic+json": {
              "summary": "{\n  \"name\": \"category_tree\",\n  \"rows\": 5,\n  \"fields\": [\n    {\n      \"column\": \"categoryid\",\n      \"properties\": {\n        \"dtype\": \"number\",\n        \"std\": 470,\n        \"min\": 536,\n        \"max\": 1691,\n        \"num_unique_values\": 5,\n        \"samples\": [\n          809,\n          536,\n          570\n        ],\n        \"semantic_type\": \"\",\n        \"description\": \"\"\n      }\n    },\n    {\n      \"column\": \"parentid\",\n      \"properties\": {\n        \"dtype\": \"number\",\n        \"std\": 699.3030816462916,\n        \"min\": 9.0,\n        \"max\": 1691.0,\n        \"num_unique_values\": 5,\n        \"samples\": [\n          169.0,\n          1691.0,\n          9.0\n        ],\n        \"semantic_type\": \"\",\n        \"description\": \"\"\n      }\n    }\n  ]\n}",
              "type": "dataframe"
            },
            "text/html": [
              "\n",
              "  <div id=\"df-48e72e35-493c-44b7-b1eb-63f8189638dd\" class=\"colab-df-container\">\n",
              "    <div>\n",
              "<style scoped>\n",
              "    .dataframe tbody tr th:only-of-type {\n",
              "        vertical-align: middle;\n",
              "    }\n",
              "\n",
              "    .dataframe tbody tr th {\n",
              "        vertical-align: top;\n",
              "    }\n",
              "\n",
              "    .dataframe thead th {\n",
              "        text-align: right;\n",
              "    }\n",
              "</style>\n",
              "<table border=\"1\" class=\"dataframe\">\n",
              "  <thead>\n",
              "    <tr style=\"text-align: right;\">\n",
              "      <th></th>\n",
              "      <th>categoryid</th>\n",
              "      <th>parentid</th>\n",
              "    </tr>\n",
              "  </thead>\n",
              "  <tbody>\n",
              "    <tr>\n",
              "      <th>0</th>\n",
              "      <td>1016</td>\n",
              "      <td>213.0</td>\n",
              "    </tr>\n",
              "    <tr>\n",
              "      <th>1</th>\n",
              "      <td>809</td>\n",
              "      <td>169.0</td>\n",
              "    </tr>\n",
              "    <tr>\n",
              "      <th>2</th>\n",
              "      <td>570</td>\n",
              "      <td>9.0</td>\n",
              "    </tr>\n",
              "    <tr>\n",
              "      <th>3</th>\n",
              "      <td>1691</td>\n",
              "      <td>885.0</td>\n",
              "    </tr>\n",
              "    <tr>\n",
              "      <th>4</th>\n",
              "      <td>536</td>\n",
              "      <td>1691.0</td>\n",
              "    </tr>\n",
              "  </tbody>\n",
              "</table>\n",
              "</div>\n",
              "    <div class=\"colab-df-buttons\">\n",
              "\n",
              "  <div class=\"colab-df-container\">\n",
              "    <button class=\"colab-df-convert\" onclick=\"convertToInteractive('df-48e72e35-493c-44b7-b1eb-63f8189638dd')\"\n",
              "            title=\"Convert this dataframe to an interactive table.\"\n",
              "            style=\"display:none;\">\n",
              "\n",
              "  <svg xmlns=\"http://www.w3.org/2000/svg\" height=\"24px\" viewBox=\"0 -960 960 960\">\n",
              "    <path d=\"M120-120v-720h720v720H120Zm60-500h600v-160H180v160Zm220 220h160v-160H400v160Zm0 220h160v-160H400v160ZM180-400h160v-160H180v160Zm440 0h160v-160H620v160ZM180-180h160v-160H180v160Zm440 0h160v-160H620v160Z\"/>\n",
              "  </svg>\n",
              "    </button>\n",
              "\n",
              "  <style>\n",
              "    .colab-df-container {\n",
              "      display:flex;\n",
              "      gap: 12px;\n",
              "    }\n",
              "\n",
              "    .colab-df-convert {\n",
              "      background-color: #E8F0FE;\n",
              "      border: none;\n",
              "      border-radius: 50%;\n",
              "      cursor: pointer;\n",
              "      display: none;\n",
              "      fill: #1967D2;\n",
              "      height: 32px;\n",
              "      padding: 0 0 0 0;\n",
              "      width: 32px;\n",
              "    }\n",
              "\n",
              "    .colab-df-convert:hover {\n",
              "      background-color: #E2EBFA;\n",
              "      box-shadow: 0px 1px 2px rgba(60, 64, 67, 0.3), 0px 1px 3px 1px rgba(60, 64, 67, 0.15);\n",
              "      fill: #174EA6;\n",
              "    }\n",
              "\n",
              "    .colab-df-buttons div {\n",
              "      margin-bottom: 4px;\n",
              "    }\n",
              "\n",
              "    [theme=dark] .colab-df-convert {\n",
              "      background-color: #3B4455;\n",
              "      fill: #D2E3FC;\n",
              "    }\n",
              "\n",
              "    [theme=dark] .colab-df-convert:hover {\n",
              "      background-color: #434B5C;\n",
              "      box-shadow: 0px 1px 3px 1px rgba(0, 0, 0, 0.15);\n",
              "      filter: drop-shadow(0px 1px 2px rgba(0, 0, 0, 0.3));\n",
              "      fill: #FFFFFF;\n",
              "    }\n",
              "  </style>\n",
              "\n",
              "    <script>\n",
              "      const buttonEl =\n",
              "        document.querySelector('#df-48e72e35-493c-44b7-b1eb-63f8189638dd button.colab-df-convert');\n",
              "      buttonEl.style.display =\n",
              "        google.colab.kernel.accessAllowed ? 'block' : 'none';\n",
              "\n",
              "      async function convertToInteractive(key) {\n",
              "        const element = document.querySelector('#df-48e72e35-493c-44b7-b1eb-63f8189638dd');\n",
              "        const dataTable =\n",
              "          await google.colab.kernel.invokeFunction('convertToInteractive',\n",
              "                                                    [key], {});\n",
              "        if (!dataTable) return;\n",
              "\n",
              "        const docLinkHtml = 'Like what you see? Visit the ' +\n",
              "          '<a target=\"_blank\" href=https://colab.research.google.com/notebooks/data_table.ipynb>data table notebook</a>'\n",
              "          + ' to learn more about interactive tables.';\n",
              "        element.innerHTML = '';\n",
              "        dataTable['output_type'] = 'display_data';\n",
              "        await google.colab.output.renderOutput(dataTable, element);\n",
              "        const docLink = document.createElement('div');\n",
              "        docLink.innerHTML = docLinkHtml;\n",
              "        element.appendChild(docLink);\n",
              "      }\n",
              "    </script>\n",
              "  </div>\n",
              "\n",
              "\n",
              "<div id=\"df-d736a78d-9f21-4c83-82b2-9235b0e461cc\">\n",
              "  <button class=\"colab-df-quickchart\" onclick=\"quickchart('df-d736a78d-9f21-4c83-82b2-9235b0e461cc')\"\n",
              "            title=\"Suggest charts\"\n",
              "            style=\"display:none;\">\n",
              "\n",
              "<svg xmlns=\"http://www.w3.org/2000/svg\" height=\"24px\"viewBox=\"0 0 24 24\"\n",
              "     width=\"24px\">\n",
              "    <g>\n",
              "        <path d=\"M19 3H5c-1.1 0-2 .9-2 2v14c0 1.1.9 2 2 2h14c1.1 0 2-.9 2-2V5c0-1.1-.9-2-2-2zM9 17H7v-7h2v7zm4 0h-2V7h2v10zm4 0h-2v-4h2v4z\"/>\n",
              "    </g>\n",
              "</svg>\n",
              "  </button>\n",
              "\n",
              "<style>\n",
              "  .colab-df-quickchart {\n",
              "      --bg-color: #E8F0FE;\n",
              "      --fill-color: #1967D2;\n",
              "      --hover-bg-color: #E2EBFA;\n",
              "      --hover-fill-color: #174EA6;\n",
              "      --disabled-fill-color: #AAA;\n",
              "      --disabled-bg-color: #DDD;\n",
              "  }\n",
              "\n",
              "  [theme=dark] .colab-df-quickchart {\n",
              "      --bg-color: #3B4455;\n",
              "      --fill-color: #D2E3FC;\n",
              "      --hover-bg-color: #434B5C;\n",
              "      --hover-fill-color: #FFFFFF;\n",
              "      --disabled-bg-color: #3B4455;\n",
              "      --disabled-fill-color: #666;\n",
              "  }\n",
              "\n",
              "  .colab-df-quickchart {\n",
              "    background-color: var(--bg-color);\n",
              "    border: none;\n",
              "    border-radius: 50%;\n",
              "    cursor: pointer;\n",
              "    display: none;\n",
              "    fill: var(--fill-color);\n",
              "    height: 32px;\n",
              "    padding: 0;\n",
              "    width: 32px;\n",
              "  }\n",
              "\n",
              "  .colab-df-quickchart:hover {\n",
              "    background-color: var(--hover-bg-color);\n",
              "    box-shadow: 0 1px 2px rgba(60, 64, 67, 0.3), 0 1px 3px 1px rgba(60, 64, 67, 0.15);\n",
              "    fill: var(--button-hover-fill-color);\n",
              "  }\n",
              "\n",
              "  .colab-df-quickchart-complete:disabled,\n",
              "  .colab-df-quickchart-complete:disabled:hover {\n",
              "    background-color: var(--disabled-bg-color);\n",
              "    fill: var(--disabled-fill-color);\n",
              "    box-shadow: none;\n",
              "  }\n",
              "\n",
              "  .colab-df-spinner {\n",
              "    border: 2px solid var(--fill-color);\n",
              "    border-color: transparent;\n",
              "    border-bottom-color: var(--fill-color);\n",
              "    animation:\n",
              "      spin 1s steps(1) infinite;\n",
              "  }\n",
              "\n",
              "  @keyframes spin {\n",
              "    0% {\n",
              "      border-color: transparent;\n",
              "      border-bottom-color: var(--fill-color);\n",
              "      border-left-color: var(--fill-color);\n",
              "    }\n",
              "    20% {\n",
              "      border-color: transparent;\n",
              "      border-left-color: var(--fill-color);\n",
              "      border-top-color: var(--fill-color);\n",
              "    }\n",
              "    30% {\n",
              "      border-color: transparent;\n",
              "      border-left-color: var(--fill-color);\n",
              "      border-top-color: var(--fill-color);\n",
              "      border-right-color: var(--fill-color);\n",
              "    }\n",
              "    40% {\n",
              "      border-color: transparent;\n",
              "      border-right-color: var(--fill-color);\n",
              "      border-top-color: var(--fill-color);\n",
              "    }\n",
              "    60% {\n",
              "      border-color: transparent;\n",
              "      border-right-color: var(--fill-color);\n",
              "    }\n",
              "    80% {\n",
              "      border-color: transparent;\n",
              "      border-right-color: var(--fill-color);\n",
              "      border-bottom-color: var(--fill-color);\n",
              "    }\n",
              "    90% {\n",
              "      border-color: transparent;\n",
              "      border-bottom-color: var(--fill-color);\n",
              "    }\n",
              "  }\n",
              "</style>\n",
              "\n",
              "  <script>\n",
              "    async function quickchart(key) {\n",
              "      const quickchartButtonEl =\n",
              "        document.querySelector('#' + key + ' button');\n",
              "      quickchartButtonEl.disabled = true;  // To prevent multiple clicks.\n",
              "      quickchartButtonEl.classList.add('colab-df-spinner');\n",
              "      try {\n",
              "        const charts = await google.colab.kernel.invokeFunction(\n",
              "            'suggestCharts', [key], {});\n",
              "      } catch (error) {\n",
              "        console.error('Error during call to suggestCharts:', error);\n",
              "      }\n",
              "      quickchartButtonEl.classList.remove('colab-df-spinner');\n",
              "      quickchartButtonEl.classList.add('colab-df-quickchart-complete');\n",
              "    }\n",
              "    (() => {\n",
              "      let quickchartButtonEl =\n",
              "        document.querySelector('#df-d736a78d-9f21-4c83-82b2-9235b0e461cc button');\n",
              "      quickchartButtonEl.style.display =\n",
              "        google.colab.kernel.accessAllowed ? 'block' : 'none';\n",
              "    })();\n",
              "  </script>\n",
              "</div>\n",
              "\n",
              "    </div>\n",
              "  </div>\n"
            ],
            "text/plain": [
              "   categoryid  parentid\n",
              "0        1016     213.0\n",
              "1         809     169.0\n",
              "2         570       9.0\n",
              "3        1691     885.0\n",
              "4         536    1691.0"
            ]
          },
          "execution_count": 11,
          "metadata": {},
          "output_type": "execute_result"
        }
      ],
      "source": [
        "category_tree.head()"
      ]
    },
    {
      "cell_type": "code",
      "execution_count": 12,
      "metadata": {
        "id": "-bou1yKExAFX"
      },
      "outputs": [],
      "source": [
        "events_item_properties = events.merge(item_properties, on='itemid', how='left')"
      ]
    },
    {
      "cell_type": "code",
      "execution_count": 13,
      "metadata": {
        "colab": {
          "base_uri": "https://localhost:8080/"
        },
        "id": "iN3MZ2fibe2A",
        "outputId": "8adb370e-f318-4342-9fcc-bbf2fdae3452"
      },
      "outputs": [
        {
          "name": "stdout",
          "output_type": "stream",
          "text": [
            "      timestamp_x  visitorid event  itemid  transactionid   timestamp_y  \\\n",
            "4   1433220899221     824915  view  428805            NaN  1.439694e+12   \n",
            "6   1433220899221     824915  view  428805            NaN  1.435460e+12   \n",
            "8   1433220899221     824915  view  428805            NaN  1.432436e+12   \n",
            "14  1433220899221     824915  view  428805            NaN  1.431227e+12   \n",
            "28  1433220899221     824915  view  428805            NaN  1.433646e+12   \n",
            "\n",
            "      property   value  value_numeric  \n",
            "4          202  916731         916731  \n",
            "6          917  873834         873834  \n",
            "8   categoryid     646            646  \n",
            "14           6  726714         726714  \n",
            "28         112  679677         679677  \n"
          ]
        }
      ],
      "source": [
        "# Persist the dataframe to optimize the operations\n",
        "events_item_properties = events_item_properties.persist()\n",
        "\n",
        "# Convert 'value' to numeric, coercing errors to NaN\n",
        "events_item_properties['value_numeric'] = dd.to_numeric(events_item_properties['value'], errors='coerce')\n",
        "\n",
        "# Drop rows where 'value_numeric' is NaN (non-numeric values)\n",
        "events_item_properties = events_item_properties.dropna(subset=['value_numeric'])\n",
        "\n",
        "# Ensure 'value_numeric' is integer type\n",
        "events_item_properties['value_numeric'] = events_item_properties['value_numeric'].astype('int32')\n",
        "\n",
        "# Compute and show the first few rows of the result\n",
        "print(events_item_properties.head())\n"
      ]
    },
    {
      "cell_type": "code",
      "execution_count": 14,
      "metadata": {
        "colab": {
          "base_uri": "https://localhost:8080/"
        },
        "id": "Gpi2Dqvcbhld",
        "outputId": "ea22ce18-ed06-48f2-95a8-d2f1fc0b38eb"
      },
      "outputs": [
        {
          "name": "stderr",
          "output_type": "stream",
          "text": [
            "/usr/local/lib/python3.10/dist-packages/dask/dataframe/multi.py:520: UserWarning: Merging dataframes with merge column data type mismatches: \n",
            "+---------------------------------+------------+-------------+\n",
            "| Merge columns                   | left dtype | right dtype |\n",
            "+---------------------------------+------------+-------------+\n",
            "| ('value_numeric', 'categoryid') | int32      | int64       |\n",
            "+---------------------------------+------------+-------------+\n",
            "Cast dtypes explicitly to avoid unexpected results.\n",
            "  warnings.warn(\n"
          ]
        }
      ],
      "source": [
        "final_df = events_item_properties.merge(\n",
        "    category_tree,\n",
        "    left_on='value_numeric',\n",
        "    right_on='categoryid',\n",
        "    how='left'\n",
        ")"
      ]
    },
    {
      "cell_type": "code",
      "execution_count": 15,
      "metadata": {
        "colab": {
          "base_uri": "https://localhost:8080/"
        },
        "id": "CYpsIAATbyCv",
        "outputId": "1ea8082a-9e74-44dc-bee1-59c4c5e14ca0"
      },
      "outputs": [
        {
          "data": {
            "text/plain": [
              "Index(['timestamp_x', 'visitorid', 'event', 'itemid', 'transactionid',\n",
              "       'timestamp_y', 'property', 'value', 'value_numeric', 'categoryid',\n",
              "       'parentid'],\n",
              "      dtype='object')"
            ]
          },
          "execution_count": 15,
          "metadata": {},
          "output_type": "execute_result"
        }
      ],
      "source": [
        "final_df.columns"
      ]
    },
    {
      "cell_type": "code",
      "execution_count": 16,
      "metadata": {
        "id": "nQaBNgixcGL2"
      },
      "outputs": [],
      "source": [
        "# feature engineering\n",
        "\n",
        "import numpy as np\n",
        "\n",
        "np.random.seed(42)"
      ]
    },
    {
      "cell_type": "code",
      "execution_count": null,
      "metadata": {
        "id": "sCyY4ZXVcneX"
      },
      "outputs": [],
      "source": [
        "import dask.dataframe as dd\n",
        "import numpy as np\n",
        "\n",
        "# Assuming final_df is a Dask DataFrame\n",
        "user_measurements = final_df[['visitorid']].drop_duplicates().reset_index(drop=True)\n",
        "\n",
        "# Generate random heights and weights using Dask's assign method\n",
        "user_measurements = user_measurements.assign(\n",
        "    user_height=lambda x: np.random.randint(150, 200, size=len(x)),\n",
        "    user_weight=lambda x: np.random.randint(50, 100, size=len(x))\n",
        ")\n"
      ]
    },
    {
      "cell_type": "code",
      "execution_count": null,
      "metadata": {
        "id": "uG1gVRMzcpSz"
      },
      "outputs": [],
      "source": [
        "final_df = final_df.merge(user_measurements, on='visitorid', how='left')"
      ]
    },
    {
      "cell_type": "code",
      "execution_count": null,
      "metadata": {
        "id": "LI1ZxlMccq7j"
      },
      "outputs": [],
      "source": [
        "# If final_df is a Dask DataFrame, no need to use compute() within the lambda\n",
        "final_df = final_df.assign(\n",
        "    size=lambda x: np.random.choice(['S', 'M', 'L', 'XL'], size=len(x))\n",
        ")\n",
        "\n",
        "# If final_df is a Dask DataFrame, and you want to persist it:\n",
        "final_df = final_df.persist()"
      ]
    },
    {
      "cell_type": "code",
      "execution_count": null,
      "metadata": {
        "id": "rAsP1uMvD1EQ"
      },
      "outputs": [],
      "source": [
        "final_df.columns"
      ]
    },
    {
      "cell_type": "code",
      "execution_count": null,
      "metadata": {
        "id": "jcg76XHBFGdW"
      },
      "outputs": [],
      "source": [
        "from sklearn.model_selection import train_test_split\n",
        "from sklearn.preprocessing import StandardScaler, LabelEncoder\n",
        "from sklearn.metrics import accuracy_score, f1_score\n",
        "import tensorflow as tf\n",
        "from tensorflow.keras.models import Sequential\n",
        "from tensorflow.keras.layers import Dense, Dropout"
      ]
    },
    {
      "cell_type": "code",
      "execution_count": null,
      "metadata": {
        "id": "tzMw3_SWHwR6"
      },
      "outputs": [],
      "source": [
        "label_encoder = LabelEncoder()\n",
        "final_df['size_encoded'] = label_encoder.fit_transform(final_df['size'])"
      ]
    },
    {
      "cell_type": "code",
      "execution_count": null,
      "metadata": {
        "id": "64P3lemvHzIB"
      },
      "outputs": [],
      "source": [
        "# Features and target\n",
        "X = final_df[['user_height', 'user_weight', 'categoryid']]\n",
        "y = final_df['size_encoded']"
      ]
    },
    {
      "cell_type": "code",
      "execution_count": null,
      "metadata": {
        "id": "76gtOKuDH1Ng"
      },
      "outputs": [],
      "source": [
        "# Normalize the features\n",
        "scaler = StandardScaler()\n",
        "X_scaled = scaler.fit_transform(X)"
      ]
    },
    {
      "cell_type": "code",
      "execution_count": null,
      "metadata": {
        "id": "zI3JM7-QH3LK"
      },
      "outputs": [],
      "source": [
        "# Split the data\n",
        "X_train, X_test, y_train, y_test = train_test_split(X_scaled, y, test_size=0.2, random_state=42)\n"
      ]
    },
    {
      "cell_type": "code",
      "execution_count": null,
      "metadata": {
        "id": "P5M9YMaKH5C7"
      },
      "outputs": [],
      "source": [
        "# Build the Neural Network\n",
        "model = Sequential([\n",
        "    Dense(64, input_dim=X_train.shape[1], activation='relu'),\n",
        "    Dropout(0.2),\n",
        "    Dense(32, activation='relu'),\n",
        "    Dense(16, activation='relu'),\n",
        "    Dense(len(label_encoder.classes_), activation='softmax')  # Output layer for multi-class classification\n",
        "])"
      ]
    },
    {
      "cell_type": "code",
      "execution_count": null,
      "metadata": {
        "id": "y1IMC-krH7Ku"
      },
      "outputs": [],
      "source": [
        "# Compile the model\n",
        "model.compile(optimizer='adam', loss='sparse_categorical_crossentropy', metrics=['accuracy'])\n",
        "\n",
        "# Train the model\n",
        "history = model.fit(X_train, y_train, validation_data=(X_test, y_test), epochs=50, batch_size=32)\n"
      ]
    },
    {
      "cell_type": "code",
      "execution_count": null,
      "metadata": {
        "id": "Q2aQpsb1H9xK"
      },
      "outputs": [],
      "source": [
        "# Evaluate the model\n",
        "y_pred = model.predict(X_test)\n",
        "y_pred_classes = np.argmax(y_pred, axis=1)\n",
        "\n",
        "accuracy = accuracy_score(y_test, y_pred_classes)\n",
        "f1 = f1_score(y_test, y_pred_classes, average='weighted')"
      ]
    },
    {
      "cell_type": "code",
      "execution_count": null,
      "metadata": {
        "id": "ih8K7aVRH_JL"
      },
      "outputs": [],
      "source": [
        "print(f\"Accuracy: {accuracy:.2f}\")\n",
        "print(f\"F1 Score: {f1:.2f}\")\n",
        "\n",
        "# Decode the predicted sizes\n",
        "predicted_sizes = label_encoder.inverse_transform(y_pred_classes)\n",
        "print(\"Predicted Sizes:\", predicted_sizes[:10])"
      ]
    },
    {
      "cell_type": "code",
      "execution_count": null,
      "metadata": {
        "id": "0iEkla_IIBY1"
      },
      "outputs": [],
      "source": [
        "# Save the model as an .h5 file\n",
        "model.save('size_recommendation_model.h5')\n",
        "\n",
        "# Load the model\n",
        "from tensorflow.keras.models import load_model\n",
        "\n",
        "loaded_model = load_model('size_recommendation_model.h5')\n",
        "\n",
        "# Verify the loaded model\n",
        "loaded_model.summary()"
      ]
    },
    {
      "cell_type": "code",
      "execution_count": null,
      "metadata": {
        "id": "laadjZHTIV1x"
      },
      "outputs": [],
      "source": [
        "#user profiling\n",
        "\n",
        "import pandas as pd\n",
        "import numpy as np\n",
        "from sklearn.metrics.pairwise import cosine_similarity\n",
        "from sklearn.preprocessing import LabelEncoder\n",
        "\n",
        "# Create user-item interaction matrix\n",
        "interaction_matrix = final_df.pivot_table(index='visitorid', columns='itemid', values='transactionid', aggfunc='count', fill_value=0)\n",
        "print(\"Interaction Matrix:\")\n",
        "print(interaction_matrix.head())"
      ]
    },
    {
      "cell_type": "code",
      "execution_count": null,
      "metadata": {
        "id": "nzQC6M3HIsE8"
      },
      "outputs": [],
      "source": [
        "#Collaborative Filtering\n",
        "\n",
        "# Compute similarity between users using Cosine Similarity\n",
        "user_similarity = cosine_similarity(interaction_matrix)\n",
        "user_similarity_df = pd.DataFrame(user_similarity, index=interaction_matrix.index, columns=interaction_matrix.index)\n",
        "\n",
        "print(\"User Similarity Matrix:\")\n",
        "print(user_similarity_df.head())\n",
        "\n",
        "# Recommend products for a given user\n",
        "def recommend_items_for_user(user_id, num_recommendations=5):\n",
        "    similar_users = user_similarity_df[user_id].sort_values(ascending=False).index[1:num_recommendations + 1]\n",
        "\n",
        "    # Get items viewed/purchased by similar users\n",
        "    recommended_items = set()\n",
        "    for similar_user in similar_users:\n",
        "        items = interaction_matrix.loc[similar_user][interaction_matrix.loc[similar_user] > 0].index\n",
        "        recommended_items.update(items)\n",
        "\n",
        "    return list(recommended_items)\n",
        "\n",
        "print(\"Recommended Items for User 1001:\", recommend_items_for_user(1001))\n"
      ]
    },
    {
      "cell_type": "code",
      "execution_count": null,
      "metadata": {
        "id": "AJ0tH1eUIv5X"
      },
      "outputs": [],
      "source": [
        "#Content-Based Filtering\n",
        "# Use item-based features: category, size, etc.\n",
        "item_features = final_df.groupby('itemid')[['categoryid']].first()\n",
        "\n",
        "# Normalize and calculate similarity between items\n",
        "item_similarity = cosine_similarity(item_features)\n",
        "item_similarity_df = pd.DataFrame(item_similarity, index=item_features.index, columns=item_features.index)\n",
        "\n",
        "print(\"Item Similarity Matrix:\")\n",
        "print(item_similarity_df.head())\n",
        "\n",
        "def recommend_similar_items(item_id, num_recommendations=5):\n",
        "    similar_items = item_similarity_df[item_id].sort_values(ascending=False).index[1:num_recommendations + 1]\n",
        "    return similar_items.tolist()\n",
        "\n",
        "print(\"Recommended Items Similar to Item 1:\", recommend_similar_items(1))\n"
      ]
    },
    {
      "cell_type": "code",
      "execution_count": null,
      "metadata": {
        "id": "qa3CYuerIz7w"
      },
      "outputs": [],
      "source": [
        "#Hybrid Recommendation System\n",
        "\n",
        "def hybrid_recommendation(user_id, item_id, num_recommendations=5):\n",
        "    user_based_recommendations = recommend_items_for_user(user_id, num_recommendations)\n",
        "    item_based_recommendations = recommend_similar_items(item_id, num_recommendations)\n",
        "\n",
        "    # Combine recommendations (e.g., weighted combination)\n",
        "    combined_recommendations = set(user_based_recommendations).union(set(item_based_recommendations))\n",
        "    return list(combined_recommendations)[:num_recommendations]\n",
        "\n",
        "print(\"Hybrid Recommendations for User 1001 and Item 1:\", hybrid_recommendation(1001, 1))\n"
      ]
    },
    {
      "cell_type": "code",
      "execution_count": null,
      "metadata": {
        "id": "Q7yjC3y9I3by"
      },
      "outputs": [],
      "source": [
        "import numpy as np\n",
        "\n",
        "ground_truth = {\n",
        "    1001: [1, 2, 5],\n",
        "    1002: [3, 4],\n",
        "    1003: [2, 6],\n",
        "}\n",
        "\n",
        "# Recommendations for each user (simulated)\n",
        "recommendations = {\n",
        "    1001: [1, 3, 5, 7],\n",
        "    1002: [3, 8, 9],\n",
        "    1003: [6, 2, 10, 11],\n",
        "}\n",
        "\n",
        "# Precision@K\n",
        "def precision_at_k(recommended, relevant, k):\n",
        "    recommended_at_k = recommended[:k]\n",
        "    relevant_and_recommended = set(recommended_at_k) & set(relevant)\n",
        "    return len(relevant_and_recommended) / k\n",
        "\n",
        "# Recall@K\n",
        "def recall_at_k(recommended, relevant, k):\n",
        "    recommended_at_k = recommended[:k]\n",
        "    relevant_and_recommended = set(recommended_at_k) & set(relevant)\n",
        "    return len(relevant_and_recommended) / len(relevant)\n",
        "\n",
        "# Average Precision (AP) for a single user\n",
        "def average_precision(recommended, relevant):\n",
        "    relevant_and_recommended = 0\n",
        "    sum_precisions = 0\n",
        "    for i, item in enumerate(recommended, start=1):\n",
        "        if item in relevant:\n",
        "            relevant_and_recommended += 1\n",
        "            sum_precisions += relevant_and_recommended / i\n",
        "    return sum_precisions / len(relevant) if relevant else 0\n",
        "\n",
        "# Mean Average Precision (MAP) across all users\n",
        "def mean_average_precision(ground_truth, recommendations):\n",
        "    return np.mean([average_precision(recommendations[user], ground_truth[user])\n",
        "                    for user in ground_truth])\n",
        "\n",
        "# Evaluation\n",
        "K = 3\n",
        "precision_scores = {user: precision_at_k(recommendations[user], ground_truth[user], K) for user in ground_truth}\n",
        "recall_scores = {user: recall_at_k(recommendations[user], ground_truth[user], K) for user in ground_truth}\n",
        "map_score = mean_average_precision(ground_truth, recommendations)\n",
        "\n",
        "print(\"Precision@K for each user:\", precision_scores)\n",
        "print(\"Recall@K for each user:\", recall_scores)\n",
        "print(f\"Mean Average Precision (MAP): {map_score:.2f}\")\n"
      ]
    },
    {
      "cell_type": "code",
      "execution_count": null,
      "metadata": {
        "id": "MHjsjDd8JPoQ"
      },
      "outputs": [],
      "source": []
    }
  ],
  "metadata": {
    "accelerator": "GPU",
    "colab": {
      "gpuType": "T4",
      "provenance": []
    },
    "kernelspec": {
      "display_name": "Python 3",
      "name": "python3"
    },
    "language_info": {
      "name": "python"
    }
  },
  "nbformat": 4,
  "nbformat_minor": 0
}
